{
 "cells": [
  {
   "cell_type": "markdown",
   "metadata": {},
   "source": [
    "# Programming for data science - exercise session 2 (Python)"
   ]
  },
  {
   "cell_type": "markdown",
   "metadata": {},
   "source": [
    "Ricordiamo come creare una lista:"
   ]
  },
  {
   "cell_type": "code",
   "execution_count": 1,
   "metadata": {},
   "outputs": [
    {
     "name": "stdout",
     "output_type": "stream",
     "text": [
      "[0, 1, 2, 3, 4, 5, 6, 7, 8, 9]\n"
     ]
    }
   ],
   "source": [
    "lista = list()\n",
    "for i in range(10):\n",
    "    lista.append(i)\n",
    "    \n",
    "print(lista)"
   ]
  },
  {
   "cell_type": "markdown",
   "metadata": {},
   "source": [
    "Le liste possono contenere non soltanto numeri:"
   ]
  },
  {
   "cell_type": "code",
   "execution_count": 2,
   "metadata": {},
   "outputs": [
    {
     "name": "stdout",
     "output_type": "stream",
     "text": [
      "['Python', 'is', 'meant', 'to', 'be', 'an', 'easily', 'readable', 'language']\n"
     ]
    }
   ],
   "source": [
    "lista = [\"Python\", \"is\", \"meant\", \"to\", \"be\", \"an\", \"easily\", \"readable\", \"language\"]\n",
    "print(lista)"
   ]
  },
  {
   "cell_type": "markdown",
   "metadata": {},
   "source": [
    "Possiamo iterare su una lista utilizzando un ciclo \"for\":"
   ]
  },
  {
   "cell_type": "code",
   "execution_count": 3,
   "metadata": {},
   "outputs": [
    {
     "name": "stdout",
     "output_type": "stream",
     "text": [
      "Python\n",
      "is\n",
      "meant\n",
      "to\n",
      "be\n",
      "an\n",
      "easily\n",
      "readable\n",
      "language\n",
      "La lunghezza della lista è 9\n"
     ]
    }
   ],
   "source": [
    "lunghezza = 0\n",
    "for parola in lista:\n",
    "    print(parola)\n",
    "    lunghezza += 1\n",
    "    \n",
    "print(\"La lunghezza della lista è\", lunghezza)"
   ]
  },
  {
   "cell_type": "markdown",
   "metadata": {},
   "source": [
    "In realtà, per conoscere la lunghezza di una lista possiamo utilizzare la funzione \"len\":"
   ]
  },
  {
   "cell_type": "code",
   "execution_count": 4,
   "metadata": {},
   "outputs": [
    {
     "name": "stdout",
     "output_type": "stream",
     "text": [
      "Help on built-in function len in module builtins:\n",
      "\n",
      "len(obj, /)\n",
      "    Return the number of items in a container.\n",
      "\n",
      "9\n"
     ]
    }
   ],
   "source": [
    "help(len)\n",
    "print(len(lista))"
   ]
  },
  {
   "cell_type": "markdown",
   "metadata": {},
   "source": [
    "## Find the max"
   ]
  },
  {
   "cell_type": "markdown",
   "metadata": {},
   "source": [
    "Abbiamo già visto che per trovare il valore massimo in una lista possiamo usare la funzione \"max\".\n",
    "\n",
    "Cerchiamo ora di implementare questa funzione per capire meglio cosa succede."
   ]
  },
  {
   "cell_type": "code",
   "execution_count": 5,
   "metadata": {},
   "outputs": [
    {
     "name": "stdout",
     "output_type": "stream",
     "text": [
      "145\n"
     ]
    }
   ],
   "source": [
    "def massimo(lista):\n",
    "    massimo = 0               # supponiamo di avere solo numeri positivi\n",
    "    for numero in lista:      # iteriamo sui numeri della lista\n",
    "        if numero > massimo:  # se il numero corrente è maggiore del massimo\n",
    "            massimo = numero  # allora il massimo verrà aggiornato\n",
    "    return massimo\n",
    "\n",
    "num_positivi = [1, 145, 64, 78, 90, 54, 21]\n",
    "print(massimo(num_positivi))"
   ]
  },
  {
   "cell_type": "markdown",
   "metadata": {},
   "source": [
    "## Esercizio 1 - Trovare il minimo\n",
    "\n",
    "Allo stesso modo, possiamo implementare una funzione che trovi il minimo in una lista:"
   ]
  },
  {
   "cell_type": "code",
   "execution_count": 6,
   "metadata": {},
   "outputs": [
    {
     "name": "stdout",
     "output_type": "stream",
     "text": [
      "21\n"
     ]
    }
   ],
   "source": [
    "from math import inf\n",
    "\n",
    "def minimo(lista):\n",
    "    minimo = inf             # inizializziamo il minimo a + infinito\n",
    "    for numero in lista:\n",
    "        if numero < minimo:\n",
    "            minimo = numero\n",
    "    return minimo\n",
    "\n",
    "num_positivi = [98, 84, 46, 57, 21, 35, 76]\n",
    "print(minimo(num_positivi))"
   ]
  },
  {
   "cell_type": "markdown",
   "metadata": {},
   "source": [
    "## Indexing\n",
    "\n",
    "Molto spesso vogliamo eseguire delle operazioni sui singoli elementi di una lista. Vediamo come selezionare questi elementi."
   ]
  },
  {
   "cell_type": "code",
   "execution_count": 7,
   "metadata": {},
   "outputs": [
    {
     "name": "stdout",
     "output_type": "stream",
     "text": [
      "['questa', 'lista', 'ha', '5', 'elementi']\n"
     ]
    }
   ],
   "source": [
    "frase = \"questa lista ha 5 elementi\"\n",
    "lista = frase.split()\n",
    "print(lista)"
   ]
  },
  {
   "cell_type": "code",
   "execution_count": 8,
   "metadata": {},
   "outputs": [
    {
     "name": "stdout",
     "output_type": "stream",
     "text": [
      "Help on method_descriptor:\n",
      "\n",
      "split(...)\n",
      "    S.split(sep=None, maxsplit=-1) -> list of strings\n",
      "    \n",
      "    Return a list of the words in S, using sep as the\n",
      "    delimiter string.  If maxsplit is given, at most maxsplit\n",
      "    splits are done. If sep is not specified or is None, any\n",
      "    whitespace string is a separator and empty strings are\n",
      "    removed from the result.\n",
      "\n"
     ]
    }
   ],
   "source": [
    "help(str.split)"
   ]
  },
  {
   "cell_type": "markdown",
   "metadata": {},
   "source": [
    "Selezioniamo il primo elemento della lista. __NB__: gli indici in Python (e nella maggior parte dei linguaggi di programmazione) partono da 0:"
   ]
  },
  {
   "cell_type": "code",
   "execution_count": 9,
   "metadata": {},
   "outputs": [
    {
     "name": "stdout",
     "output_type": "stream",
     "text": [
      "questa\n"
     ]
    }
   ],
   "source": [
    "print(lista[0])"
   ]
  },
  {
   "cell_type": "markdown",
   "metadata": {},
   "source": [
    "Secondo elemento della lista:"
   ]
  },
  {
   "cell_type": "code",
   "execution_count": 10,
   "metadata": {},
   "outputs": [
    {
     "name": "stdout",
     "output_type": "stream",
     "text": [
      "lista\n"
     ]
    }
   ],
   "source": [
    "print(lista[1])"
   ]
  },
  {
   "cell_type": "markdown",
   "metadata": {},
   "source": [
    "E l'ultimo?"
   ]
  },
  {
   "cell_type": "code",
   "execution_count": 11,
   "metadata": {},
   "outputs": [
    {
     "ename": "IndexError",
     "evalue": "list index out of range",
     "output_type": "error",
     "traceback": [
      "\u001b[0;31m---------------------------------------------------------------------------\u001b[0m",
      "\u001b[0;31mIndexError\u001b[0m                                Traceback (most recent call last)",
      "\u001b[0;32m<ipython-input-11-2ea0294b33ac>\u001b[0m in \u001b[0;36m<module>\u001b[0;34m()\u001b[0m\n\u001b[0;32m----> 1\u001b[0;31m \u001b[0mprint\u001b[0m\u001b[0;34m(\u001b[0m\u001b[0mlista\u001b[0m\u001b[0;34m[\u001b[0m\u001b[0mlen\u001b[0m\u001b[0;34m(\u001b[0m\u001b[0mlista\u001b[0m\u001b[0;34m)\u001b[0m\u001b[0;34m]\u001b[0m\u001b[0;34m)\u001b[0m\u001b[0;34m\u001b[0m\u001b[0m\n\u001b[0m",
      "\u001b[0;31mIndexError\u001b[0m: list index out of range"
     ]
    }
   ],
   "source": [
    "print(lista[len(lista)])"
   ]
  },
  {
   "cell_type": "code",
   "execution_count": 12,
   "metadata": {},
   "outputs": [
    {
     "name": "stdout",
     "output_type": "stream",
     "text": [
      "elementi\n"
     ]
    }
   ],
   "source": [
    "print(lista[len(lista) - 1])"
   ]
  },
  {
   "cell_type": "markdown",
   "metadata": {},
   "source": [
    "C'è un modo tuttavia più semplice di selezionare l'ultimo elemento:"
   ]
  },
  {
   "cell_type": "code",
   "execution_count": 13,
   "metadata": {},
   "outputs": [
    {
     "name": "stdout",
     "output_type": "stream",
     "text": [
      "elementi\n"
     ]
    }
   ],
   "source": [
    "print(lista[-1])"
   ]
  },
  {
   "cell_type": "code",
   "execution_count": 14,
   "metadata": {},
   "outputs": [
    {
     "name": "stdout",
     "output_type": "stream",
     "text": [
      "5\n"
     ]
    }
   ],
   "source": [
    "print(lista[-2])"
   ]
  },
  {
   "cell_type": "markdown",
   "metadata": {},
   "source": [
    "## Esercizio 2 - Trovare massimo e minimo con \"sorted\"\n",
    "\n",
    "Potendo usare gli indici, possiamo anche pensare di riscrivere le funzioni di massimo e minimo ordinando la lista.."
   ]
  },
  {
   "cell_type": "code",
   "execution_count": 15,
   "metadata": {},
   "outputs": [
    {
     "name": "stdout",
     "output_type": "stream",
     "text": [
      "98\n",
      "21\n"
     ]
    }
   ],
   "source": [
    "def massimo(lista):\n",
    "    lista = sorted(lista, reverse=True) # ordiniamo la lista in modo decrescente (nota reverse=True)\n",
    "    return lista[0]                     # ritorniamo il primo elemento della lista\n",
    "\n",
    "def minimo(lista):\n",
    "    lista = sorted(lista)               # ordiniamo la lista in modo crescente\n",
    "    return lista[0]                     # ritorniamo il primo elemento della lista\n",
    "\n",
    "num_positivi = [98, 84, 46, 57, 21, 35, 76]\n",
    "print(massimo(num_positivi))\n",
    "print(minimo(num_positivi))"
   ]
  },
  {
   "cell_type": "markdown",
   "metadata": {},
   "source": [
    "## Enumerate\n",
    "\n",
    "Come fare se volessimo stampare tutti gli elementi in una lista il cui indice è un numero pari?"
   ]
  },
  {
   "cell_type": "code",
   "execution_count": 16,
   "metadata": {},
   "outputs": [
    {
     "name": "stdout",
     "output_type": "stream",
     "text": [
      "['spero', 'che', 'nel', 'weekend', 'non', 'piova']\n",
      "spero\n",
      "nel\n",
      "non\n"
     ]
    }
   ],
   "source": [
    "lista = \"spero che nel weekend non piova\".split()\n",
    "print(lista)\n",
    "for i in range(len(lista)):\n",
    "    if i % 2 == 0:\n",
    "        print(lista[i])"
   ]
  },
  {
   "cell_type": "markdown",
   "metadata": {},
   "source": [
    "Il metodo visto sopra non è errato, tuttavia è poco \"pythonic\": uno dei fondamenti di python è quello di essere facilmente comprensibile. Esiste una funzione molto utile che si chiama \"enumerate\":"
   ]
  },
  {
   "cell_type": "code",
   "execution_count": 17,
   "metadata": {},
   "outputs": [
    {
     "name": "stdout",
     "output_type": "stream",
     "text": [
      "index: 0 value: spero\n",
      "index: 1 value: che\n",
      "index: 2 value: nel\n",
      "index: 3 value: weekend\n",
      "index: 4 value: non\n",
      "index: 5 value: piova\n"
     ]
    }
   ],
   "source": [
    "for index, value in enumerate(lista):\n",
    "    print(\"index:\", index, \"value:\", value)"
   ]
  },
  {
   "cell_type": "markdown",
   "metadata": {},
   "source": [
    "Utilizzando \"enumerate\", possiamo riscrivere il codice sopra in modo diverso:"
   ]
  },
  {
   "cell_type": "code",
   "execution_count": 18,
   "metadata": {},
   "outputs": [
    {
     "name": "stdout",
     "output_type": "stream",
     "text": [
      "spero\n",
      "nel\n",
      "non\n"
     ]
    }
   ],
   "source": [
    "for indice, valore in enumerate(lista):\n",
    "    if indice % 2 == 0:\n",
    "        print(valore)"
   ]
  },
  {
   "cell_type": "markdown",
   "metadata": {},
   "source": [
    "## Slicing\n",
    "\n",
    "Oltre che selezionare singoli elementi di una lista, possiamo anche considerare interi sottoinsiemi dell'intera lista:"
   ]
  },
  {
   "cell_type": "code",
   "execution_count": 19,
   "metadata": {},
   "outputs": [
    {
     "name": "stdout",
     "output_type": "stream",
     "text": [
      "['nel', 'weekend']\n",
      "['nel', 'weekend', 'non', 'piova']\n",
      "['spero', 'che', 'nel', 'weekend']\n"
     ]
    }
   ],
   "source": [
    "inizio = 2\n",
    "fine = 4\n",
    "print(lista[inizio:fine])\n",
    "print(lista[inizio:])\n",
    "print(lista[:fine])"
   ]
  },
  {
   "cell_type": "markdown",
   "metadata": {},
   "source": [
    "In più possiamo specificare anche lo \"step\", così come nel \"range\":"
   ]
  },
  {
   "cell_type": "code",
   "execution_count": 20,
   "metadata": {},
   "outputs": [
    {
     "name": "stdout",
     "output_type": "stream",
     "text": [
      "111\n",
      "['tra', 'interrotte', 'a', 'golfi,', 'sporgere', 'di', 'a', 'ristringersi,', 'corso', 'fiume,']\n"
     ]
    }
   ],
   "source": [
    "prom_sposi = \"Quel ramo del lago di Como, che volge a mezzogiorno, tra due catene non interrotte di monti, \\\n",
    "tutto a seni e a golfi, a seconda dello sporgere e del rientrare di quelli, vien, quasi a un tratto, a ristringersi, \\\n",
    "e a prender corso e figura di fiume, tra un promontorio a destra, e un'ampia costiera dall'altra parte; e il ponte, \\\n",
    "che ivi congiunge le due rive, par che renda ancor più sensibile all'occhio questa trasformazione, e segni il punto \\\n",
    "in cui il lago cessa, e l'Adda ricomincia, per ripigliar poi nome di lago dove le rive, allontanandosi di nuovo, \\\n",
    "lascian l'acqua distendersi e rallentarsi in nuovi golfi e in nuovi seni.\"\n",
    "lista = prom_sposi.split()\n",
    "print(len(lista))\n",
    "print(lista[10:50:4])"
   ]
  },
  {
   "cell_type": "markdown",
   "metadata": {},
   "source": [
    "## Esercizio 3 - Stampa somma prima e seconda metà della lista\n",
    "\n",
    "In questo esercizio abbiamo una lista di numeri e vogliamo la somma della prima e seconda metà della lista.\n",
    "\n",
    "__Nota 1__: per sommare elementi all'interno di una lista esiste la funzione \"sum\".\n",
    "\n",
    "__Nota 2__: gli indici degli elementi di una lista devono essere numeri interi!"
   ]
  },
  {
   "cell_type": "code",
   "execution_count": 21,
   "metadata": {},
   "outputs": [
    {
     "name": "stdout",
     "output_type": "stream",
     "text": [
      "(285, 154)\n"
     ]
    }
   ],
   "source": [
    "def somme_metà(lista):\n",
    "    meta = len(lista) // 2   # len(lista) / 2 restituirebbe un float\n",
    "    return sum(lista[:meta]), sum(lista[meta:])\n",
    "\n",
    "numeri = [98, 84, 46, 57, 21, 35, 76, 22]\n",
    "print(somme_metà(numeri))"
   ]
  },
  {
   "cell_type": "markdown",
   "metadata": {},
   "source": [
    "## Esercizio 4 - Numeri primi\n",
    "\n",
    "Il crivello di Eratostene (https://en.wikipedia.org/wiki/Sieve_of_Eratosthenes) è tra i primi algoritmi di cui si conosce l'esistenza e serve per trovare numeri primi. Proviamo ad implementarlo.."
   ]
  },
  {
   "cell_type": "code",
   "execution_count": 22,
   "metadata": {},
   "outputs": [
    {
     "name": "stdout",
     "output_type": "stream",
     "text": [
      "[2, 3, 5, 7, 11, 13, 17, 19, 23, 29, 31, 37, 41, 43, 47, 53, 59, 61, 67, 71, 73, 79, 83, 89, 97]\n"
     ]
    }
   ],
   "source": [
    "def sieve(n):\n",
    "    \"\"\"\n",
    "    Input: n - limite superiore\n",
    "    \"\"\"\n",
    "    lista = [True] * n                      # creiamo una lista di lunghezza n che contenga True in ogni cella\n",
    "    for pos, value in enumerate(lista):     # scorriamo la lista per indice e valore\n",
    "        if value is True and pos > 1:       # se il valore corrente è ancora True e l'indice è maggiore di 1 allora abbiamo un numero primo\n",
    "            for i in range(pos*2, n, pos):  # scorriamo tutta la lista per i multipli del numero primo trovato, partendo dal numero primo x 2\n",
    "                lista[i] = False            # settiamo tutti i multipli nella lista di True a False\n",
    "    primi = []                              # creiamo una lista vuota che conterrà i numeri primi\n",
    "    for pos, value in enumerate(lista):     # scorriamo di nuovo la lista di True/False\n",
    "        if value is True:                   # se il valore nella lista non è stato settato a False allora abbiamo un primo\n",
    "            primi.append(pos)               # aggiungiamo il numero primo alla lista di numeri primi\n",
    "    return primi[2:]                        # ritorniamo la lista a partire dal secondo indice (0 e 1 non sono inclusi)\n",
    "\n",
    "print(sieve(100))"
   ]
  },
  {
   "cell_type": "markdown",
   "metadata": {},
   "source": [
    "## Set\n",
    "\n",
    "A differenza delle liste i set sono una struttura dati non ordinata (non possiamo indicizzarla), che non contiene duplicati. Possiamo eseguire varie operazioni con i set, tra cui l'unione (\"|\"), l'intersezione (\"&\") e la differenza (-). Funzioni che abbiamo già visto con le liste come \"len\", \"max\", \"min\" possono essere usate anche con i set. Tuttavia, quelle che implicano un ordinamento no (es. \"append\")."
   ]
  },
  {
   "cell_type": "code",
   "execution_count": 23,
   "metadata": {},
   "outputs": [
    {
     "name": "stdout",
     "output_type": "stream",
     "text": [
      "{1}\n",
      "{'hello', 1}\n",
      "{'hello', 1}\n"
     ]
    }
   ],
   "source": [
    "insieme = set()\n",
    "insieme.add(1)\n",
    "print(insieme)\n",
    "insieme.add(\"hello\")\n",
    "print(insieme)\n",
    "insieme.add(1)\n",
    "print(insieme)"
   ]
  },
  {
   "cell_type": "code",
   "execution_count": 24,
   "metadata": {},
   "outputs": [
    {
     "ename": "AttributeError",
     "evalue": "'set' object has no attribute 'append'",
     "output_type": "error",
     "traceback": [
      "\u001b[0;31m---------------------------------------------------------------------------\u001b[0m",
      "\u001b[0;31mAttributeError\u001b[0m                            Traceback (most recent call last)",
      "\u001b[0;32m<ipython-input-24-222f5f63b5ed>\u001b[0m in \u001b[0;36m<module>\u001b[0;34m()\u001b[0m\n\u001b[1;32m      1\u001b[0m \u001b[0minsieme\u001b[0m \u001b[0;34m=\u001b[0m \u001b[0;34m{\u001b[0m\u001b[0;36m1\u001b[0m\u001b[0;34m,\u001b[0m \u001b[0;36m2\u001b[0m\u001b[0;34m,\u001b[0m \u001b[0;36m3\u001b[0m\u001b[0;34m}\u001b[0m\u001b[0;34m\u001b[0m\u001b[0m\n\u001b[0;32m----> 2\u001b[0;31m \u001b[0minsieme\u001b[0m\u001b[0;34m.\u001b[0m\u001b[0mappend\u001b[0m\u001b[0;34m(\u001b[0m\u001b[0;36m4\u001b[0m\u001b[0;34m)\u001b[0m\u001b[0;34m\u001b[0m\u001b[0m\n\u001b[0m",
      "\u001b[0;31mAttributeError\u001b[0m: 'set' object has no attribute 'append'"
     ]
    }
   ],
   "source": [
    "insieme = {1, 2, 3}\n",
    "insieme.append(4)"
   ]
  },
  {
   "cell_type": "markdown",
   "metadata": {},
   "source": [
    "## Esercizio 5 - Studenti\n",
    "\n",
    "Abbiamo 3 set che rappresentano gli studenti iscritti alle classi di \"Programming for data Science\", \"Data Mining and Machine Learning Lab\" e \"R and Python\". Vogliamo trovare gli studenti che sono iscritti al primo o al secondo corso e non al terzo."
   ]
  },
  {
   "cell_type": "code",
   "execution_count": 25,
   "metadata": {
    "collapsed": true
   },
   "outputs": [],
   "source": [
    "prog_for_data_science = {\"Tizio\", \"Caio\"}\n",
    "data_mining = {\"Sempronio\", \"Lucrezio\", \"Tizio\"}\n",
    "r_and_python = {\"Virgilio\", \"Tizio\", \"Caligola\", \"Sempronio\"}"
   ]
  },
  {
   "cell_type": "markdown",
   "metadata": {},
   "source": [
    "## Dizionari\n",
    "\n",
    "I dizionari sono delle strutture dati formati da coppie (chiave, valore). Possiamo pensarli come una lista in cui però gli indici non sono dei numeri, ma possono essere anche altri tipi di dati. Il requisito è che questi elementi che usiamo per indicizzare il dizionario siano unici.\n",
    "\n",
    "Vediamo qualche esempio:"
   ]
  },
  {
   "cell_type": "code",
   "execution_count": 26,
   "metadata": {},
   "outputs": [
    {
     "name": "stdout",
     "output_type": "stream",
     "text": [
      "{'Tizio': 349, 'Sempronio': 328, 'Caio': 143}\n"
     ]
    }
   ],
   "source": [
    "rubrica = dict()\n",
    "rubrica['Tizio'] = 349\n",
    "rubrica['Sempronio'] = 328\n",
    "rubrica['Caio'] = 143\n",
    "print(rubrica)"
   ]
  },
  {
   "cell_type": "code",
   "execution_count": 27,
   "metadata": {},
   "outputs": [
    {
     "name": "stdout",
     "output_type": "stream",
     "text": [
      "dict_keys(['Tizio', 'Sempronio', 'Caio'])\n"
     ]
    }
   ],
   "source": [
    "print(rubrica.keys())"
   ]
  },
  {
   "cell_type": "code",
   "execution_count": 28,
   "metadata": {},
   "outputs": [
    {
     "name": "stdout",
     "output_type": "stream",
     "text": [
      "dict_values([349, 328, 143])\n"
     ]
    }
   ],
   "source": [
    "print(rubrica.values())"
   ]
  },
  {
   "cell_type": "markdown",
   "metadata": {},
   "source": [
    "I valori nei dizionari possono essere anche delle liste:"
   ]
  },
  {
   "cell_type": "code",
   "execution_count": 29,
   "metadata": {},
   "outputs": [
    {
     "name": "stdout",
     "output_type": "stream",
     "text": [
      "{'Lombardia': ['Bergamo', 'Brescia', 'Como', 'Cremona', 'Lecco', 'Lodi', 'Mantova', 'Milano', 'Monza', 'Pavia', 'Sondrio', 'Varese'], 'Campania': ['Napoli', 'Salerno', 'Avellino', 'Caserta', 'Benevento']}\n"
     ]
    }
   ],
   "source": [
    "province = dict()\n",
    "province['Lombardia'] = ['Bergamo', 'Brescia', 'Como', 'Cremona', 'Lecco', 'Lodi', 'Mantova', 'Milano', 'Monza', 'Pavia', 'Sondrio', 'Varese']\n",
    "province['Campania'] = ['Napoli', 'Salerno', 'Avellino', 'Caserta', 'Benevento']\n",
    "print(province)"
   ]
  },
  {
   "cell_type": "code",
   "execution_count": 30,
   "metadata": {},
   "outputs": [
    {
     "ename": "KeyError",
     "evalue": "'Molise'",
     "output_type": "error",
     "traceback": [
      "\u001b[0;31m---------------------------------------------------------------------------\u001b[0m",
      "\u001b[0;31mKeyError\u001b[0m                                  Traceback (most recent call last)",
      "\u001b[0;32m<ipython-input-30-6cd7dd3fecf7>\u001b[0m in \u001b[0;36m<module>\u001b[0;34m()\u001b[0m\n\u001b[0;32m----> 1\u001b[0;31m \u001b[0mprint\u001b[0m\u001b[0;34m(\u001b[0m\u001b[0mprovince\u001b[0m\u001b[0;34m[\u001b[0m\u001b[0;34m'Molise'\u001b[0m\u001b[0;34m]\u001b[0m\u001b[0;34m)\u001b[0m\u001b[0;34m\u001b[0m\u001b[0m\n\u001b[0m",
      "\u001b[0;31mKeyError\u001b[0m: 'Molise'"
     ]
    }
   ],
   "source": [
    "print(province['Molise'])"
   ]
  },
  {
   "cell_type": "markdown",
   "metadata": {},
   "source": [
    "Anche Python sembra confermare che il Molise non esiste!\n",
    "\n",
    "Così come con le liste (o set), possiamo iterare sui dizionari:"
   ]
  },
  {
   "cell_type": "code",
   "execution_count": 31,
   "metadata": {},
   "outputs": [
    {
     "name": "stdout",
     "output_type": "stream",
     "text": [
      "349\n",
      "328\n",
      "143\n"
     ]
    }
   ],
   "source": [
    "for key in rubrica:\n",
    "    print(rubrica[key])"
   ]
  },
  {
   "cell_type": "markdown",
   "metadata": {},
   "source": [
    "## Esercizio 6 - Contare le lettere\n",
    "\n",
    "Se i numeri da 1 a 4 sono scritti in parole: uno, due, tre, quattro, allora abbiamo 3 + 3 + 3 + 7 = 16 lettere in totale.\n",
    "Se tutti i numeri da 1 a 10 fossero scritti in parole, quante lettere avremmo?"
   ]
  },
  {
   "cell_type": "code",
   "execution_count": 32,
   "metadata": {},
   "outputs": [
    {
     "name": "stdout",
     "output_type": "stream",
     "text": [
      "43\n"
     ]
    }
   ],
   "source": [
    "# creiamo il dizionario\n",
    "lettere = {1: 'uno', 2: 'due', 3: 'tre',\n",
    "           4: 'quattro', 5: 'cinque',\n",
    "           6: 'sei', 7: 'sette', 8: 'otto',\n",
    "           9: 'nove', 10: 'dieci'}\n",
    "tot_lettere = 0                     # inizializziamo il totale a 0\n",
    "for i in range(1, 11):              # scorriamo i numeri da 1 a 10\n",
    "    tot_lettere += len(lettere[i])  # aggiungiamo la lunghezza del numero corrente\n",
    "    \n",
    "print(tot_lettere)"
   ]
  }
 ],
 "metadata": {
  "kernelspec": {
   "display_name": "Python 3",
   "language": "python",
   "name": "python3"
  },
  "language_info": {
   "codemirror_mode": {
    "name": "ipython",
    "version": 3
   },
   "file_extension": ".py",
   "mimetype": "text/x-python",
   "name": "python",
   "nbconvert_exporter": "python",
   "pygments_lexer": "ipython3",
   "version": "3.6.1"
  }
 },
 "nbformat": 4,
 "nbformat_minor": 2
}
