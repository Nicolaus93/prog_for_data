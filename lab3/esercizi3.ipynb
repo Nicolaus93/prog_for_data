{
 "cells": [
  {
   "cell_type": "markdown",
   "metadata": {},
   "source": [
    "# Programming for data science - exercise session 3 (Python)"
   ]
  },
  {
   "cell_type": "markdown",
   "metadata": {},
   "source": [
    "## Ancora dizionari\n",
    "\n",
    "Ricordiamo che i dizionari funzionano in base allo schema: chiave -> valore\n",
    "\n",
    "Per testare l'esistenza all'interno di un dizionario di una data chiave, si procede in modo analogo alle liste (o ai set..), usando \"__in__\":"
   ]
  },
  {
   "cell_type": "code",
   "execution_count": 1,
   "metadata": {},
   "outputs": [
    {
     "name": "stdout",
     "output_type": "stream",
     "text": [
      "1234\n",
      "Sempronio non presente in rubrica\n"
     ]
    }
   ],
   "source": [
    "rubrica = {'Tizio': 1234, 'Caio': 5678}\n",
    "if 'Tizio' in rubrica:\n",
    "    print(rubrica['Tizio'])\n",
    "\n",
    "if 'Sempronio' in rubrica:\n",
    "    print(rubrica['Sempronio'])\n",
    "else:\n",
    "    print(\"Sempronio non presente in rubrica\")"
   ]
  },
  {
   "cell_type": "markdown",
   "metadata": {},
   "source": [
    "## E tuple\n",
    "\n",
    "Le tuple sono una struttura dati molto simile alle liste, con la differenza che sono immutabili (come le stringhe). Una volta assegnato un valore ad una tupla, questa non può essere modificata:"
   ]
  },
  {
   "cell_type": "code",
   "execution_count": 2,
   "metadata": {},
   "outputs": [
    {
     "name": "stdout",
     "output_type": "stream",
     "text": [
      "0 1\n"
     ]
    }
   ],
   "source": [
    "tup = (0, 1)\n",
    "print(tup[0], tup[1])"
   ]
  },
  {
   "cell_type": "code",
   "execution_count": 3,
   "metadata": {},
   "outputs": [
    {
     "ename": "TypeError",
     "evalue": "'tuple' object does not support item assignment",
     "output_type": "error",
     "traceback": [
      "\u001b[0;31m---------------------------------------------------------------------------\u001b[0m",
      "\u001b[0;31mTypeError\u001b[0m                                 Traceback (most recent call last)",
      "\u001b[0;32m<ipython-input-3-6a3eddbecd9c>\u001b[0m in \u001b[0;36m<module>\u001b[0;34m()\u001b[0m\n\u001b[0;32m----> 1\u001b[0;31m \u001b[0mtup\u001b[0m\u001b[0;34m[\u001b[0m\u001b[0;36m0\u001b[0m\u001b[0;34m]\u001b[0m \u001b[0;34m=\u001b[0m \u001b[0;36m45\u001b[0m\u001b[0;34m\u001b[0m\u001b[0m\n\u001b[0m",
      "\u001b[0;31mTypeError\u001b[0m: 'tuple' object does not support item assignment"
     ]
    }
   ],
   "source": [
    "tup[0] = 45"
   ]
  },
  {
   "cell_type": "markdown",
   "metadata": {},
   "source": [
    "Per saperne di più, info al seguente link: http://getpython3.com/diveintopython3/native-datatypes.html#tuples"
   ]
  },
  {
   "cell_type": "markdown",
   "metadata": {},
   "source": [
    "## Esercizio 1: combinazioni dei dadi\n",
    "\n",
    "Lanciando 2 dadi, la somma che potremmo ottenere vanno da 2 a 12. Tuttavia le combinazioni per ottenere questi 11 valori sono 36. \n",
    "Costruire un dizionario che abbia come chiavi le somme (da 2 a 12) e come valori la __lista__ dei numeri che ci da la corrispondente somma.\n",
    "\n",
    "Hint:\n",
    " - ogni combinazione di 2 elementi può essere salvata in una tupla\n",
    " \n",
    "Esempio:\n",
    "\n",
    "    combinazioni = dict()\n",
    "    combinazioni[2] = [(1, 1)]\n",
    "    combinazioni[3] = [(2, 1), (1, 2)]\n",
    "    combinazioni[4] = [(1, 3), (2, 2), (3, 1)]\n",
    "    ..."
   ]
  },
  {
   "cell_type": "code",
   "execution_count": 4,
   "metadata": {},
   "outputs": [
    {
     "name": "stdout",
     "output_type": "stream",
     "text": [
      "{2: [(1, 1)], 3: [(1, 2), (2, 1)], 4: [(1, 3), (2, 2), (3, 1)], 5: [(1, 4), (2, 3), (3, 2), (4, 1)], 6: [(1, 5), (2, 4), (3, 3), (4, 2), (5, 1)], 7: [(1, 6), (2, 5), (3, 4), (4, 3), (5, 2), (6, 1)], 8: [(2, 6), (3, 5), (4, 4), (5, 3), (6, 2)], 9: [(3, 6), (4, 5), (5, 4), (6, 3)], 10: [(4, 6), (5, 5), (6, 4)], 11: [(5, 6), (6, 5)], 12: [(6, 6)]}\n"
     ]
    }
   ],
   "source": [
    "combinazioni = dict()   # creiamo il dizionario\n",
    "\n",
    "for i in range(1, 7):      # inizializziamo il ciclo esterno (i in [1-6])\n",
    "    for j in range(1, 7):  # inizializziamo il ciclo interno (j in [1-6])\n",
    "        somma = i + j      # definiamo la somma che sarà la chiave del dizionario\n",
    "        tupla = (i, j)     # definiamo la tupla corrispondente ai 2 numeri estratti dai dadi\n",
    "        if somma not in combinazioni:\n",
    "            # se la somma corrente non è all'interno del dizionario\n",
    "            # allora dobbiamo creare la lista con la corrispondente\n",
    "            # chiave (la somma stessa)\n",
    "            combinazioni[somma] = list()      # inizializziamo la lista\n",
    "            combinazioni[somma].append(tupla) # aggiungiamo la tupla alla lista appena creata\n",
    "        else:\n",
    "            # se la somma è già presente come chiave all'interno\n",
    "            # del dizionario, allora dobbiamo solo creare la tupla\n",
    "            # con i valori dei dadi e aggiungerla alla lista di\n",
    "            # valori che ci danno quella somma\n",
    "            combinazioni[somma].append(tupla)\n",
    "\n",
    "print(combinazioni)"
   ]
  },
  {
   "cell_type": "markdown",
   "metadata": {},
   "source": [
    "Se non è chiaro il comportamento di 2 cicli \"for\" annidati, possiamo visualizzarlo nel seguente modo:"
   ]
  },
  {
   "cell_type": "code",
   "execution_count": 5,
   "metadata": {},
   "outputs": [
    {
     "name": "stdout",
     "output_type": "stream",
     "text": [
      "i=0, j=3\n",
      "i=0, j=4\n",
      "i=0, j=5\n",
      "i=1, j=3\n",
      "i=1, j=4\n",
      "i=1, j=5\n",
      "i=2, j=3\n",
      "i=2, j=4\n",
      "i=2, j=5\n"
     ]
    }
   ],
   "source": [
    "for i in range(3):\n",
    "    for j in range(3, 6):\n",
    "        print(\"i={}, j={}\".format(i, j))"
   ]
  },
  {
   "cell_type": "markdown",
   "metadata": {},
   "source": [
    "## Lettura di file"
   ]
  },
  {
   "cell_type": "markdown",
   "metadata": {},
   "source": [
    "Supponiamo ora di voler sapere quali sono le parole più frequenti nell'Inferno di Dante (gentilmente concesso dal progetto Gutenberg, https://www.gutenberg.org/ebooks/997):"
   ]
  },
  {
   "cell_type": "code",
   "execution_count": 6,
   "metadata": {},
   "outputs": [
    {
     "name": "stdout",
     "output_type": "stream",
     "text": [
      "Punteggiatura {':', '$', '_', '~', '%', ',', '@', '=', ')', '/', '!', '<', '}', ';', ']', '#', '[', '(', '.', '{', '\\\\', '`', '^', '>', '+', '|', \"'\", '-', '\"', '*', '?', '&'}\n",
      "Totale parole distinte nell'Inferno: 7473\n"
     ]
    }
   ],
   "source": [
    "import string                       # importiamo questa libreria che ci servirà per rimuovere la punteggiatura\n",
    "exclude = set(string.punctuation)   # salviamo la punteggiatura in un set\n",
    "print(\"Punteggiatura\", exclude)\n",
    "dizionario = dict()                 # inizializziamo il dizionario che conterrà tutte le parole dell'\"Inferno\"\n",
    "\n",
    "with open(\"pg997.txt\", 'r') as inferno:                      # apriamo il file in modalità 'reading'\n",
    "    for num_riga, riga in enumerate(inferno):                # scorriamo il file riga per riga\n",
    "        if len(riga) > 1:                                    # se abbiamo parole nella riga corrente.. \n",
    "            s = riga.lower()                                 # convertiamo tutte i caratteri in lettere minuscole\n",
    "            s = ''.join(ch for ch in s if ch not in exclude) # rimuoviamo la punteggiatura\n",
    "            parole = s.split()                               # splittiamo la frase\n",
    "            for parola in parole:                            # scorriamo le parole nella frase\n",
    "                if parola in dizionario:                     # se la parola è già all'interno del dizionario..\n",
    "                    dizionario[parola] += 1                  # aumentiamo il suo valore\n",
    "                else:\n",
    "                    dizionario[parola] = 1                   # altrimenti lo settiamo a 1\n",
    "            \n",
    "print(\"Totale parole distinte nell'Inferno:\", len(dizionario))"
   ]
  },
  {
   "cell_type": "markdown",
   "metadata": {},
   "source": [
    "Come procedere ora? I dizionari sono delle strutture dati che non preservano l'ordine. E' possibile però ottenere una rappresentazione diversa, ad esempio una lista, convertendo il dizionario:"
   ]
  },
  {
   "cell_type": "code",
   "execution_count": 7,
   "metadata": {},
   "outputs": [
    {
     "name": "stdout",
     "output_type": "stream",
     "text": [
      "dict_items([(1, 2), (3, 4), (4, 3), (2, 1), (0, 0)])\n"
     ]
    }
   ],
   "source": [
    "x = dict()\n",
    "x[1] = 2\n",
    "x[3] = 4\n",
    "x[4] = 3\n",
    "x[2] = 1\n",
    "x[0] = 0\n",
    "# questa scrittura sarebbe stata equivalente: x = {1: 2, 3: 4, 4: 3, 2: 1, 0: 0}\n",
    "it = x.items()\n",
    "print(it)"
   ]
  },
  {
   "cell_type": "markdown",
   "metadata": {},
   "source": [
    "Dopodiché possiamo usare il metodo sorted, già visto in precedenza. Il problema è che per ogni item abbiamo 2 elementi (chiave, valore), mentre quello che vogliamo è un ordinamento basato soltanto sui valori. In questo caso basta specificare un parametro in più\n",
    "\n",
    "### Operator: itemgetter() - https://docs.python.org/3/library/operator.html\n",
    "\n",
    " - Return a callable object that fetches item from its operand using the operand’s __getitem__() method.\n",
    "\n",
    " - The items can be any type accepted by the operand’s __getitem__() method.\n",
    " \n",
    "Per ordinare il dizionario, lo trasformiamo in una lista di "
   ]
  },
  {
   "cell_type": "code",
   "execution_count": 8,
   "metadata": {},
   "outputs": [
    {
     "name": "stdout",
     "output_type": "stream",
     "text": [
      "dict_items([('abaco', 2), ('dado', 4), ('ente', 3), ('bolla', 1), ('cane', 0)])\n"
     ]
    }
   ],
   "source": [
    "import operator\n",
    "x = {'abaco': 2, 'dado': 4, 'ente': 3, 'bolla': 1, 'cane': 0}\n",
    "print(x.items())"
   ]
  },
  {
   "cell_type": "code",
   "execution_count": 9,
   "metadata": {},
   "outputs": [
    {
     "name": "stdout",
     "output_type": "stream",
     "text": [
      "[('cane', 0), ('bolla', 1), ('abaco', 2), ('ente', 3), ('dado', 4)]\n",
      "[('abaco', 2), ('bolla', 1), ('cane', 0), ('dado', 4), ('ente', 3)]\n"
     ]
    }
   ],
   "source": [
    "print(sorted(x.items(), key=operator.itemgetter(1))) # in questo modo ordiniamo rispetto ai valori\n",
    "print(sorted(x.items(), key=operator.itemgetter(0))) # in questo modo ordiniamo rispetto alle chiavi"
   ]
  },
  {
   "cell_type": "code",
   "execution_count": 10,
   "metadata": {},
   "outputs": [
    {
     "name": "stdout",
     "output_type": "stream",
     "text": [
      "[('e', 1567), ('che', 1267), ('la', 885), ('a', 673), ('di', 628), ('si', 561), ('non', 491), ('per', 438), ('l', 413), ('in', 328), ('le', 304), ('li', 304), ('mi', 291), ('con', 255), ('se', 252), ('de', 225), ('tu', 219), ('lo', 218), ('ne', 198), ('il', 193), ('io', 191), ('da', 189), ('piu', 181), ('come', 181), ('al', 173), ('ma', 161), ('del', 157), ('i', 148), ('chi', 148), ('me', 134), ('quel', 127), ('un', 126), ('poi', 125), ('disse', 112), ('fu', 109), ('su', 107), ('mio', 106), ('quando', 105), ('or', 104), ('nel', 102), ('gia', 102), ('cosi', 101), ('o', 98), ('ti', 98), ('lui', 95), ('noi', 94), ('son', 91), ('lor', 87), ('maestro', 78), ('the', 76), ('vidi', 76), ('suo', 75), ('quella', 74), ('chio', 74), ('era', 69), ('sua', 68), ('tutto', 68), ('qual', 66), ('giu', 66), ('ed', 65), ('dal', 63), ('qui', 63), ('perche', 61), ('duca', 61), ('of', 60), ('poco', 60), ('tanto', 59), ('ancor', 58), ('ben', 57), ('tra', 57), ('you', 55), ('dove', 55), ('terra', 55), ('to', 54), ('fuor', 54), ('mai', 54), ('tal', 53), ('fa', 53), ('cui', 53), ('pero', 52), ('mondo', 52), ('gente', 50), ('inferno', 49), ('cha', 49), ('questa', 49), ('occhi', 49), ('sotto', 49), ('cio', 49), ('laltro', 49), ('pur', 49), ('loco', 48), ('sanza', 47), ('gran', 47), ('questo', 47), ('fui', 45), ('tutti', 45), ('due', 44), ('altri', 43), ('te', 43), ('una', 42), ('qua', 42), ('elli', 42), ('and', 41), ('vedi', 41), ('tua', 41), ('ad', 41), ('parte', 41), ('canto', 40), ('prima', 40), ('questi', 40), ('voi', 40), ('pie', 38), ('n', 38), ('colui', 38), ('dentro', 38), ('col', 38), ('via', 37), ('sovra', 37), ('this', 36), ('quei', 36), ('mia', 36), ('mal', 36), ('allor', 35), ('sia', 35), ('ci', 35), ('dun', 34), ('lun', 34), ('dinanzi', 32), ('dietro', 32), ('laltra', 32), ('project', 31), ('etext', 31), ('ogne', 31), ('fece', 31), ('ha', 31), ('onde', 31), ('rispuose', 30), ('ciascun', 30), ('quivi', 30), ('veder', 30), ('far', 30), ('parole', 30), ('esser', 30), ('tempo', 29), ('fe', 29), ('fosse', 29), ('va', 29), ('for', 28), ('quanto', 27), ('tuo', 27), ('poscia', 27), ('viso', 27), ('assai', 27), ('dio', 26), ('avea', 26), ('fondo', 26), ('dir', 25), ('tutte', 25), ('fatto', 25), ('ove', 25), ('loro', 25), ('tre', 25), ('man', 25), ('vi', 24), ('suoi', 24), ('convien', 24), ('dissi', 24), ('faccia', 24), ('dante', 23), ('by', 23), ('vita', 23), ('sol', 23), ('par', 23), ('alcun', 23), ('sue', 22), ('mezzo', 22), ('forte', 22), ('volse', 22), ('volto', 22), ('tutta', 22), ('altro', 22), ('tosto', 22), ('men', 22), ('quelli', 22), ('forse', 22), ('if', 21), ('quelle', 21), ('sono', 21), ('dogne', 21), ('sen', 21), ('pena', 21), ('capo', 21), ('ver', 21), ('divina', 20), ('cose', 20), ('parea', 20), ('ancora', 20), ('mente', 20), ('comio', 20), ('sangue', 20)]\n"
     ]
    }
   ],
   "source": [
    "import operator\n",
    "sorted_diz = sorted(dizionario.items(), key=operator.itemgetter(1), reverse=True)\n",
    "print(sorted_diz[:200])"
   ]
  },
  {
   "cell_type": "markdown",
   "metadata": {},
   "source": [
    "Come possiamo vedere, le parole più frequenti non sono particolarmente significative. Per avere un risultato migliore dovremmo rimuovere le cosiddette \"stopwords\".."
   ]
  },
  {
   "cell_type": "markdown",
   "metadata": {},
   "source": [
    "## Extra - visualizzazione delle parole\n",
    "\n",
    "Per poter visualizzare le parole più frequenti possiamo utilizzare una libreria python, chiamata wordcloud (https://github.com/conda-forge/wordcloud-feedstock), insieme a matplotlib, la libreria che viene utilizzata per i grafici:"
   ]
  },
  {
   "cell_type": "code",
   "execution_count": 11,
   "metadata": {},
   "outputs": [
    {
     "data": {
      "image/png": "[encoded data removed]",
      "text/plain": [
       "<matplotlib.figure.Figure at 0x10675bc88>"
      ]
     },
     "metadata": {},
     "output_type": "display_data"
    }
   ],
   "source": [
    "%matplotlib inline\n",
    "# il comando sopra ci permette di visualizzare il plot all'interno della cella\n",
    "\n",
    "from wordcloud import WordCloud\n",
    "import matplotlib.pyplot as plt\n",
    "\n",
    "wordcloud=WordCloud().generate_from_frequencies(dizionario)\n",
    "plt.imshow(wordcloud, interpolation=\"bilinear\")\n",
    "plt.axis(\"off\")\n",
    "plt.show()"
   ]
  },
  {
   "cell_type": "markdown",
   "metadata": {},
   "source": [
    "## Numpy - vettori\n",
    "\n",
    "Numpy è una libreria pensata per il calcolo scientifico e di conseguenza adottata anche in data science per la manipolazione di dati in forma numerica.\n",
    "\n",
    "La struttura dati più comune è sicuramente l'_array_:"
   ]
  },
  {
   "cell_type": "code",
   "execution_count": 12,
   "metadata": {},
   "outputs": [
    {
     "name": "stdout",
     "output_type": "stream",
     "text": [
      "[1 2 3]\n"
     ]
    }
   ],
   "source": [
    "import numpy as np\n",
    "np.random.seed(42);\n",
    "\n",
    "vettore = np.array([1, 2, 3])\n",
    "print(vettore)"
   ]
  },
  {
   "cell_type": "markdown",
   "metadata": {},
   "source": [
    "In primo luogo l'_array_ di numpy potrebbe sembrare uguale ad una lista, tuttavia la sua implementazione interna lo rende molto diverso da una lista. In particolare, tutte le operazioni matematiche sono implementate in modo tale da essere molto più performanti, usando la cosiddetta \"vettorizzazione\": invece di usare un ciclo \"for\" per processare un array di N elementi uno alla volta, la \"vettorizzazione\" ci permette di applicare la stessa operazione a più elementi contemporaneamente:"
   ]
  },
  {
   "cell_type": "code",
   "execution_count": 13,
   "metadata": {},
   "outputs": [
    {
     "name": "stdout",
     "output_type": "stream",
     "text": [
      "[0 1 2 3 4 5 6 7 8 9]\n",
      "[10 11 12 13 14 15 16 17 18 19]\n"
     ]
    }
   ],
   "source": [
    "vettore = np.arange(10)\n",
    "print(vettore)\n",
    "print(vettore + 10)"
   ]
  },
  {
   "cell_type": "markdown",
   "metadata": {},
   "source": [
    "Per la creazione del vettore abbiamo usato il metodo _np.arange(..)_, che è molto simile al normale _range(..)_:"
   ]
  },
  {
   "cell_type": "code",
   "execution_count": 14,
   "metadata": {},
   "outputs": [
    {
     "name": "stdout",
     "output_type": "stream",
     "text": [
      "Help on built-in function arange in module numpy.core.multiarray:\n",
      "\n",
      "arange(...)\n",
      "    arange([start,] stop[, step,], dtype=None)\n",
      "    \n",
      "    Return evenly spaced values within a given interval.\n",
      "    \n",
      "    Values are generated within the half-open interval ``[start, stop)``\n",
      "    (in other words, the interval including `start` but excluding `stop`).\n",
      "    For integer arguments the function is equivalent to the Python built-in\n",
      "    `range <http://docs.python.org/lib/built-in-funcs.html>`_ function,\n",
      "    but returns an ndarray rather than a list.\n",
      "    \n",
      "    When using a non-integer step, such as 0.1, the results will often not\n",
      "    be consistent.  It is better to use ``linspace`` for these cases.\n",
      "    \n",
      "    Parameters\n",
      "    ----------\n",
      "    start : number, optional\n",
      "        Start of interval.  The interval includes this value.  The default\n",
      "        start value is 0.\n",
      "    stop : number\n",
      "        End of interval.  The interval does not include this value, except\n",
      "        in some cases where `step` is not an integer and floating point\n",
      "        round-off affects the length of `out`.\n",
      "    step : number, optional\n",
      "        Spacing between values.  For any output `out`, this is the distance\n",
      "        between two adjacent values, ``out[i+1] - out[i]``.  The default\n",
      "        step size is 1.  If `step` is specified, `start` must also be given.\n",
      "    dtype : dtype\n",
      "        The type of the output array.  If `dtype` is not given, infer the data\n",
      "        type from the other input arguments.\n",
      "    \n",
      "    Returns\n",
      "    -------\n",
      "    arange : ndarray\n",
      "        Array of evenly spaced values.\n",
      "    \n",
      "        For floating point arguments, the length of the result is\n",
      "        ``ceil((stop - start)/step)``.  Because of floating point overflow,\n",
      "        this rule may result in the last element of `out` being greater\n",
      "        than `stop`.\n",
      "    \n",
      "    See Also\n",
      "    --------\n",
      "    linspace : Evenly spaced numbers with careful handling of endpoints.\n",
      "    ogrid: Arrays of evenly spaced numbers in N-dimensions.\n",
      "    mgrid: Grid-shaped arrays of evenly spaced numbers in N-dimensions.\n",
      "    \n",
      "    Examples\n",
      "    --------\n",
      "    >>> np.arange(3)\n",
      "    array([0, 1, 2])\n",
      "    >>> np.arange(3.0)\n",
      "    array([ 0.,  1.,  2.])\n",
      "    >>> np.arange(3,7)\n",
      "    array([3, 4, 5, 6])\n",
      "    >>> np.arange(3,7,2)\n",
      "    array([3, 5])\n",
      "\n"
     ]
    }
   ],
   "source": [
    "help(np.arange)"
   ]
  },
  {
   "cell_type": "markdown",
   "metadata": {},
   "source": [
    "Proviamo a fare ciò che abbiamo fatto sopra con una lista:"
   ]
  },
  {
   "cell_type": "code",
   "execution_count": 15,
   "metadata": {},
   "outputs": [
    {
     "name": "stdout",
     "output_type": "stream",
     "text": [
      "[0, 1, 2, 3, 4, 5, 6, 7, 8, 9]\n"
     ]
    },
    {
     "ename": "TypeError",
     "evalue": "can only concatenate list (not \"int\") to list",
     "output_type": "error",
     "traceback": [
      "\u001b[0;31m---------------------------------------------------------------------------\u001b[0m",
      "\u001b[0;31mTypeError\u001b[0m                                 Traceback (most recent call last)",
      "\u001b[0;32m<ipython-input-15-a25145f318ef>\u001b[0m in \u001b[0;36m<module>\u001b[0;34m()\u001b[0m\n\u001b[1;32m      1\u001b[0m \u001b[0mlista\u001b[0m \u001b[0;34m=\u001b[0m \u001b[0mlist\u001b[0m\u001b[0;34m(\u001b[0m\u001b[0mrange\u001b[0m\u001b[0;34m(\u001b[0m\u001b[0;36m10\u001b[0m\u001b[0;34m)\u001b[0m\u001b[0;34m)\u001b[0m\u001b[0;34m\u001b[0m\u001b[0m\n\u001b[1;32m      2\u001b[0m \u001b[0mprint\u001b[0m\u001b[0;34m(\u001b[0m\u001b[0mlista\u001b[0m\u001b[0;34m)\u001b[0m\u001b[0;34m\u001b[0m\u001b[0m\n\u001b[0;32m----> 3\u001b[0;31m \u001b[0mprint\u001b[0m\u001b[0;34m(\u001b[0m\u001b[0mlista\u001b[0m \u001b[0;34m+\u001b[0m \u001b[0;36m10\u001b[0m\u001b[0;34m)\u001b[0m         \u001b[0;31m# questa operazione viene interpretata come una concanetazione di liste\u001b[0m\u001b[0;34m\u001b[0m\u001b[0m\n\u001b[0m",
      "\u001b[0;31mTypeError\u001b[0m: can only concatenate list (not \"int\") to list"
     ]
    }
   ],
   "source": [
    "lista = list(range(10))\n",
    "print(lista)\n",
    "print(lista + 10)         # questa operazione viene interpretata come una concanetazione di liste"
   ]
  },
  {
   "cell_type": "markdown",
   "metadata": {},
   "source": [
    "Il modo corretto di fare questa operazione è ovviamente usando un ciclo \"for\":"
   ]
  },
  {
   "cell_type": "code",
   "execution_count": 16,
   "metadata": {},
   "outputs": [
    {
     "name": "stdout",
     "output_type": "stream",
     "text": [
      "[10, 11, 12, 13, 14, 15, 16, 17, 18, 19]\n"
     ]
    }
   ],
   "source": [
    "for i in range(10):\n",
    "    lista[i] += 10\n",
    "    \n",
    "print(lista)"
   ]
  },
  {
   "cell_type": "markdown",
   "metadata": {},
   "source": [
    "Possiamo fare un confronto sulla velocità di esecuzione, utilizzando il comando _timeit_ preceduto da %%, in modo tale da misurare il tempo di esecuzione dell'intera cella (al contrario, usando soltanto %, verrà misurato il tempo di esecuzione di una sola riga):"
   ]
  },
  {
   "cell_type": "code",
   "execution_count": 17,
   "metadata": {},
   "outputs": [
    {
     "name": "stdout",
     "output_type": "stream",
     "text": [
      "100 loops, best of 3: 5.43 ms per loop\n"
     ]
    }
   ],
   "source": [
    "%%timeit\n",
    "vettore = np.arange(10**6)\n",
    "vettore = vettore + 10"
   ]
  },
  {
   "cell_type": "code",
   "execution_count": 18,
   "metadata": {},
   "outputs": [
    {
     "name": "stdout",
     "output_type": "stream",
     "text": [
      "1 loop, best of 3: 164 ms per loop\n"
     ]
    }
   ],
   "source": [
    "%%timeit\n",
    "lista = list(range(10**6))\n",
    "for i in range(10**6):\n",
    "    lista[i] += 10"
   ]
  },
  {
   "cell_type": "markdown",
   "metadata": {},
   "source": [
    "## Esercizio 2: normalizzare un vettore\n",
    "\n",
    "In questo esercizio generiamo un vettore di numeri random. Una volta che abbiamo un vettore vogliamo \"normalizzarlo\", cioè far sì che la somma di tutti i suoi elementi sia 1.\n",
    "\n",
    "Nota: funzioni che abbiamo già visto, come ad esempio max(), sum() e len(), continuano a funzionare."
   ]
  },
  {
   "cell_type": "code",
   "execution_count": 19,
   "metadata": {},
   "outputs": [
    {
     "name": "stdout",
     "output_type": "stream",
     "text": [
      "Prima della normalizzazione:\n",
      "[10 11 12 13 14 15 16 17 18 19]\n",
      "somma: 145\n",
      "Dopo la normalizzazione:\n",
      "[ 0.06896552  0.07586207  0.08275862  0.08965517  0.09655172  0.10344828\n",
      "  0.11034483  0.11724138  0.12413793  0.13103448]\n",
      "somma: 1.0\n"
     ]
    }
   ],
   "source": [
    "numeri = np.arange(10, 20)        # creiamo un vettore con numeri da 10 a 19\n",
    "print(\"Prima della normalizzazione:\")\n",
    "print(numeri)\n",
    "print(\"somma:\", sum(numeri))\n",
    "numeri = numeri / sum(numeri)     # dividiamo ogni numero per la somma totale di tutti\n",
    "print(\"Dopo la normalizzazione:\")\n",
    "print(numeri)\n",
    "print(\"somma:\", sum(numeri))"
   ]
  },
  {
   "cell_type": "markdown",
   "metadata": {},
   "source": [
    "## Numpy - matrici\n",
    "\n",
    "Le matrici in numpy possono essere pensate come degli _array_ bidimensionali:"
   ]
  },
  {
   "cell_type": "code",
   "execution_count": 20,
   "metadata": {},
   "outputs": [
    {
     "name": "stdout",
     "output_type": "stream",
     "text": [
      "[[ 1  2  3]\n",
      " [ 4  5  6]\n",
      " [ 7  8  9]\n",
      " [10 11 12]]\n",
      "\n",
      "\n",
      "[0 1 2]\n"
     ]
    }
   ],
   "source": [
    "matrice = np.array([\n",
    "    [1, 2, 3],\n",
    "    [4, 5, 6],\n",
    "    [7, 8, 9],\n",
    "    [10, 11, 12]\n",
    "])\n",
    "\n",
    "vettore = np.arange(3)\n",
    "print(matrice)\n",
    "print(\"\\n\")\n",
    "print(vettore)"
   ]
  },
  {
   "cell_type": "markdown",
   "metadata": {},
   "source": [
    "Come già detto prima, alcune funzioni come ad esempio max(), sum() e len(), continuano a funzionare:"
   ]
  },
  {
   "cell_type": "code",
   "execution_count": 21,
   "metadata": {},
   "outputs": [
    {
     "name": "stdout",
     "output_type": "stream",
     "text": [
      "sum: 3\n",
      "len: 3\n",
      "max: 2\n"
     ]
    }
   ],
   "source": [
    "print(\"sum:\", sum(vettore))\n",
    "print(\"len:\", len(vettore))\n",
    "print(\"max:\", max(vettore))"
   ]
  },
  {
   "cell_type": "markdown",
   "metadata": {},
   "source": [
    "Cosa succede invece con una matrice?"
   ]
  },
  {
   "cell_type": "code",
   "execution_count": 22,
   "metadata": {},
   "outputs": [
    {
     "name": "stdout",
     "output_type": "stream",
     "text": [
      "sum: [22 26 30]\n",
      "len: 4\n"
     ]
    },
    {
     "ename": "ValueError",
     "evalue": "The truth value of an array with more than one element is ambiguous. Use a.any() or a.all()",
     "output_type": "error",
     "traceback": [
      "\u001b[0;31m---------------------------------------------------------------------------\u001b[0m",
      "\u001b[0;31mValueError\u001b[0m                                Traceback (most recent call last)",
      "\u001b[0;32m<ipython-input-22-178d5e34ed4b>\u001b[0m in \u001b[0;36m<module>\u001b[0;34m()\u001b[0m\n\u001b[1;32m      1\u001b[0m \u001b[0mprint\u001b[0m\u001b[0;34m(\u001b[0m\u001b[0;34m\"sum:\"\u001b[0m\u001b[0;34m,\u001b[0m \u001b[0msum\u001b[0m\u001b[0;34m(\u001b[0m\u001b[0mmatrice\u001b[0m\u001b[0;34m)\u001b[0m\u001b[0;34m)\u001b[0m\u001b[0;34m\u001b[0m\u001b[0m\n\u001b[1;32m      2\u001b[0m \u001b[0mprint\u001b[0m\u001b[0;34m(\u001b[0m\u001b[0;34m\"len:\"\u001b[0m\u001b[0;34m,\u001b[0m \u001b[0mlen\u001b[0m\u001b[0;34m(\u001b[0m\u001b[0mmatrice\u001b[0m\u001b[0;34m)\u001b[0m\u001b[0;34m)\u001b[0m\u001b[0;34m\u001b[0m\u001b[0m\n\u001b[0;32m----> 3\u001b[0;31m \u001b[0mprint\u001b[0m\u001b[0;34m(\u001b[0m\u001b[0;34m\"max:\"\u001b[0m\u001b[0;34m,\u001b[0m \u001b[0mmax\u001b[0m\u001b[0;34m(\u001b[0m\u001b[0mmatrice\u001b[0m\u001b[0;34m)\u001b[0m\u001b[0;34m)\u001b[0m\u001b[0;34m\u001b[0m\u001b[0m\n\u001b[0m",
      "\u001b[0;31mValueError\u001b[0m: The truth value of an array with more than one element is ambiguous. Use a.any() or a.all()"
     ]
    }
   ],
   "source": [
    "print(\"sum:\", sum(matrice))\n",
    "print(\"len:\", len(matrice))\n",
    "print(\"max:\", max(matrice))"
   ]
  },
  {
   "cell_type": "markdown",
   "metadata": {},
   "source": [
    "Con le matrici il compito è meno chiaro: potremmo volere la somma di tutti gli elementi nella matrice, oppure solo delle righe o solo delle colonne. Allo stesso modo per il massimo. _len_ invece ci restituisce il numero di righe. Come fare se volessimo conoscere anche il numero di colonne? \n",
    "\n",
    "In realtà, la maggior parte di queste funzioni sono implementate anche in numpy in modo da poter essere applicate sugli _array_ in modo corretto: "
   ]
  },
  {
   "cell_type": "code",
   "execution_count": 23,
   "metadata": {},
   "outputs": [
    {
     "name": "stdout",
     "output_type": "stream",
     "text": [
      "sum: 3\n",
      "len: (3,)\n",
      "max: 2\n"
     ]
    }
   ],
   "source": [
    "print(\"sum:\", np.sum(vettore))\n",
    "print(\"len:\", vettore.shape)\n",
    "print(\"max:\", np.max(vettore))"
   ]
  },
  {
   "cell_type": "markdown",
   "metadata": {},
   "source": [
    "_shape_ in particolare, ci restituisce una __tupla__ con le dimensioni dell'oggetto. Vediamo con le matrici:"
   ]
  },
  {
   "cell_type": "code",
   "execution_count": 24,
   "metadata": {},
   "outputs": [
    {
     "name": "stdout",
     "output_type": "stream",
     "text": [
      "sum: 78\n",
      "dimensioni: (4, 3)\n",
      "max: 12\n"
     ]
    }
   ],
   "source": [
    "print(\"sum:\", np.sum(matrice))\n",
    "print(\"dimensioni:\", matrice.shape)\n",
    "print(\"max:\", np.max(matrice))"
   ]
  },
  {
   "cell_type": "markdown",
   "metadata": {},
   "source": [
    "In caso di default, le funzioni _np.sum()_ e _np.max()_ vengono applicate pensando alla matrice come ad un vettore:"
   ]
  },
  {
   "cell_type": "code",
   "execution_count": 25,
   "metadata": {},
   "outputs": [
    {
     "data": {
      "text/plain": [
       "array([ 1,  2,  3,  4,  5,  6,  7,  8,  9, 10, 11, 12])"
      ]
     },
     "execution_count": 25,
     "metadata": {},
     "output_type": "execute_result"
    }
   ],
   "source": [
    "matrice.flatten()"
   ]
  },
  {
   "cell_type": "markdown",
   "metadata": {},
   "source": [
    "Come già detto prima, potremmo essere interessati ad operazioni lungo le righe o le colonne. In questo caso è possibile specificare l'argomento _axis_ nella funzione, 0 per le colonne e 1 per le righe:"
   ]
  },
  {
   "cell_type": "code",
   "execution_count": 26,
   "metadata": {},
   "outputs": [
    {
     "name": "stdout",
     "output_type": "stream",
     "text": [
      "[[ 1  2  3]\n",
      " [ 4  5  6]\n",
      " [ 7  8  9]\n",
      " [10 11 12]]\n",
      "columns sum: [22 26 30]\n",
      "columns max: [10 11 12]\n",
      "rows sum: [ 6 15 24 33]\n",
      "rows max: [ 3  6  9 12]\n"
     ]
    }
   ],
   "source": [
    "print(matrice)\n",
    "print(\"columns sum:\", np.sum(matrice, axis=0))\n",
    "print(\"columns max:\", np.max(matrice, axis=0))\n",
    "print(\"rows sum:\", np.sum(matrice, axis=1))\n",
    "print(\"rows max:\", np.max(matrice, axis=1))"
   ]
  },
  {
   "cell_type": "markdown",
   "metadata": {},
   "source": [
    "## Esercizio 3: normalizzare le colonne di una matrice\n",
    "\n",
    "Estendiamo ora l'esercizio 2 al caso matriciale: abbiamo una matrice generata in modo random e vogliamo normalizzare le colonne di questa matrice, in modo che la somma degli elementi all'interno di ciascuna colonna sia 1."
   ]
  },
  {
   "cell_type": "code",
   "execution_count": 27,
   "metadata": {},
   "outputs": [
    {
     "name": "stdout",
     "output_type": "stream",
     "text": [
      "matrice: \n",
      " [[ 1  2  3]\n",
      " [ 4  5  6]\n",
      " [ 7  8  9]\n",
      " [10 11 12]]\n",
      "columns sum: \n",
      " [22 26 30]\n",
      "(3,)\n",
      "check: \n",
      " [ 1.  1.  1.]\n"
     ]
    }
   ],
   "source": [
    "matrice = np.array([\n",
    "    [1, 2, 3],\n",
    "    [4, 5, 6],\n",
    "    [7, 8, 9],\n",
    "    [10, 11, 12]\n",
    "])\n",
    "print(\"matrice: \\n\", matrice)\n",
    "\n",
    "# esercizio 3\n",
    "somme = np.sum(matrice, axis=0)  # definiamo il vettore delle somme di ciascuna colonna\n",
    "print(\"columns sum: \\n\", somme)\n",
    "print(somme.shape)\n",
    "matrice = matrice / somme        # dividiamo ogni colonna per la corrispondente somma\n",
    "print(\"check: \\n\", np.sum(matrice, axis=0))  # controlliamo che il risultato sia corretto"
   ]
  },
  {
   "cell_type": "markdown",
   "metadata": {},
   "source": [
    "## Esercizio 4: normalizzare le righe di una matrice\n",
    "\n",
    "Uguale all'esercizio precedente, ma invece delle colonne normalizziamo le righe.\n",
    "\n",
    "Note: i vettori di default sono interpretati come vettori riga."
   ]
  },
  {
   "cell_type": "code",
   "execution_count": 28,
   "metadata": {},
   "outputs": [
    {
     "name": "stdout",
     "output_type": "stream",
     "text": [
      "matrice originale: \n",
      " [[ 1  2  3]\n",
      " [ 4  5  6]\n",
      " [ 7  8  9]\n",
      " [10 11 12]]\n",
      "somma delle righe: \n",
      " [ 6 15 24 33]\n",
      "(4,)\n",
      "nuova forma: \n",
      " [[ 6]\n",
      " [15]\n",
      " [24]\n",
      " [33]]\n",
      "(4, 1)\n",
      "check: [ 1.  1.  1.  1.]\n"
     ]
    }
   ],
   "source": [
    "matrice = np.array([\n",
    "    [1, 2, 3],\n",
    "    [4, 5, 6],\n",
    "    [7, 8, 9],\n",
    "    [10, 11, 12]\n",
    "])\n",
    "\n",
    "print(\"matrice originale: \\n\", matrice)\n",
    "somme = np.sum(matrice, axis=1)\n",
    "print(\"somma delle righe: \\n\", somme)\n",
    "print(somme.shape)\n",
    "somme = somme[..., np.newaxis]\n",
    "print(\"nuova forma: \\n\", somme)\n",
    "print(somme.shape)\n",
    "matrice = matrice / somme\n",
    "print(\"check:\", np.sum(matrice, axis=1))"
   ]
  },
  {
   "cell_type": "markdown",
   "metadata": {},
   "source": [
    "## Esercizio 5: media\n",
    "\n",
    "Dato un vettore di N osservazioni, implementare una funzione che calcoli il valor medio di queste osservazioni:\n",
    "\n",
    "$$ \\bar{x} = \\frac{1}{N} \\sum_{i=1}^N x_i  $$"
   ]
  },
  {
   "cell_type": "code",
   "execution_count": 29,
   "metadata": {},
   "outputs": [
    {
     "name": "stdout",
     "output_type": "stream",
     "text": [
      "[  1   4 -54 -22   3  10   6  78]\n",
      "media: 3.25\n"
     ]
    }
   ],
   "source": [
    "def media(vettore):\n",
    "    return np.sum(vettore) / len(vettore)\n",
    "\n",
    "vettore = np.array([1, 4, -54, -22, 3, 10, 6, 78])\n",
    "print(vettore)\n",
    "print(\"media:\", media(vettore))"
   ]
  },
  {
   "cell_type": "markdown",
   "metadata": {},
   "source": [
    "Per controllare la correttezza della funzione, è possibile invocare il comando _np.mean()_:"
   ]
  },
  {
   "cell_type": "code",
   "execution_count": 30,
   "metadata": {},
   "outputs": [
    {
     "name": "stdout",
     "output_type": "stream",
     "text": [
      "Help on function mean in module numpy.core.fromnumeric:\n",
      "\n",
      "mean(a, axis=None, dtype=None, out=None, keepdims=<class 'numpy._globals._NoValue'>)\n",
      "    Compute the arithmetic mean along the specified axis.\n",
      "    \n",
      "    Returns the average of the array elements.  The average is taken over\n",
      "    the flattened array by default, otherwise over the specified axis.\n",
      "    `float64` intermediate and return values are used for integer inputs.\n",
      "    \n",
      "    Parameters\n",
      "    ----------\n",
      "    a : array_like\n",
      "        Array containing numbers whose mean is desired. If `a` is not an\n",
      "        array, a conversion is attempted.\n",
      "    axis : None or int or tuple of ints, optional\n",
      "        Axis or axes along which the means are computed. The default is to\n",
      "        compute the mean of the flattened array.\n",
      "    \n",
      "        .. versionadded:: 1.7.0\n",
      "    \n",
      "        If this is a tuple of ints, a mean is performed over multiple axes,\n",
      "        instead of a single axis or all the axes as before.\n",
      "    dtype : data-type, optional\n",
      "        Type to use in computing the mean.  For integer inputs, the default\n",
      "        is `float64`; for floating point inputs, it is the same as the\n",
      "        input dtype.\n",
      "    out : ndarray, optional\n",
      "        Alternate output array in which to place the result.  The default\n",
      "        is ``None``; if provided, it must have the same shape as the\n",
      "        expected output, but the type will be cast if necessary.\n",
      "        See `doc.ufuncs` for details.\n",
      "    \n",
      "    keepdims : bool, optional\n",
      "        If this is set to True, the axes which are reduced are left\n",
      "        in the result as dimensions with size one. With this option,\n",
      "        the result will broadcast correctly against the input array.\n",
      "    \n",
      "        If the default value is passed, then `keepdims` will not be\n",
      "        passed through to the `mean` method of sub-classes of\n",
      "        `ndarray`, however any non-default value will be.  If the\n",
      "        sub-classes `sum` method does not implement `keepdims` any\n",
      "        exceptions will be raised.\n",
      "    \n",
      "    Returns\n",
      "    -------\n",
      "    m : ndarray, see dtype parameter above\n",
      "        If `out=None`, returns a new array containing the mean values,\n",
      "        otherwise a reference to the output array is returned.\n",
      "    \n",
      "    See Also\n",
      "    --------\n",
      "    average : Weighted average\n",
      "    std, var, nanmean, nanstd, nanvar\n",
      "    \n",
      "    Notes\n",
      "    -----\n",
      "    The arithmetic mean is the sum of the elements along the axis divided\n",
      "    by the number of elements.\n",
      "    \n",
      "    Note that for floating-point input, the mean is computed using the\n",
      "    same precision the input has.  Depending on the input data, this can\n",
      "    cause the results to be inaccurate, especially for `float32` (see\n",
      "    example below).  Specifying a higher-precision accumulator using the\n",
      "    `dtype` keyword can alleviate this issue.\n",
      "    \n",
      "    By default, `float16` results are computed using `float32` intermediates\n",
      "    for extra precision.\n",
      "    \n",
      "    Examples\n",
      "    --------\n",
      "    >>> a = np.array([[1, 2], [3, 4]])\n",
      "    >>> np.mean(a)\n",
      "    2.5\n",
      "    >>> np.mean(a, axis=0)\n",
      "    array([ 2.,  3.])\n",
      "    >>> np.mean(a, axis=1)\n",
      "    array([ 1.5,  3.5])\n",
      "    \n",
      "    In single precision, `mean` can be inaccurate:\n",
      "    \n",
      "    >>> a = np.zeros((2, 512*512), dtype=np.float32)\n",
      "    >>> a[0, :] = 1.0\n",
      "    >>> a[1, :] = 0.1\n",
      "    >>> np.mean(a)\n",
      "    0.54999924\n",
      "    \n",
      "    Computing the mean in float64 is more accurate:\n",
      "    \n",
      "    >>> np.mean(a, dtype=np.float64)\n",
      "    0.55000000074505806\n",
      "\n"
     ]
    }
   ],
   "source": [
    "help(np.mean)"
   ]
  },
  {
   "cell_type": "code",
   "execution_count": 31,
   "metadata": {},
   "outputs": [
    {
     "name": "stdout",
     "output_type": "stream",
     "text": [
      "3.25\n"
     ]
    }
   ],
   "source": [
    "print(np.mean(vettore))"
   ]
  },
  {
   "cell_type": "markdown",
   "metadata": {},
   "source": [
    "## Esercizio 6: deviazione standard\n",
    "\n",
    "Dato un vettore di N osservazioni, implementare una funzione che calcoli la deviazione standard dalla media di queste osservazioni:\n",
    "\n",
    "$$ s = \\sqrt{\\frac{\\sum_{i=1}^N (x_i - \\bar{x})^2}{N - 1}} $$\n",
    "\n",
    "Nota: la radice quadrata si può invocare con la funzione _np.sqrt(..)_"
   ]
  },
  {
   "cell_type": "code",
   "execution_count": 32,
   "metadata": {},
   "outputs": [
    {
     "name": "stdout",
     "output_type": "stream",
     "text": [
      "[  1   4 -54 -22   3  10   6  78]\n",
      "deviazione standard: 36.9584709022\n"
     ]
    }
   ],
   "source": [
    "def dev_standard(vettore):\n",
    "    m = media(vettore)   # calcoliamo la media del vettore usando la funzione scritta precedentemente\n",
    "    N = len(vettore)\n",
    "    num = np.sum((vettore - m)**2) # numeratore = somma di ((ogni osservazione - media)^2)\n",
    "    den = N - 1                    # denominatore = N - 1\n",
    "    return np.sqrt(num / den)\n",
    "    \n",
    "vettore = np.array([1, 4, -54, -22, 3, 10, 6, 78])\n",
    "print(vettore)\n",
    "print(\"deviazione standard:\", dev_standard(vettore))"
   ]
  },
  {
   "cell_type": "markdown",
   "metadata": {},
   "source": [
    "Per controllare la correttezza della funzione, è possibile invocare il comando _np.std()_, in particolare usando l'argomento _ddof_=1:"
   ]
  },
  {
   "cell_type": "code",
   "execution_count": 33,
   "metadata": {},
   "outputs": [
    {
     "name": "stdout",
     "output_type": "stream",
     "text": [
      "Help on function std in module numpy.core.fromnumeric:\n",
      "\n",
      "std(a, axis=None, dtype=None, out=None, ddof=0, keepdims=<class 'numpy._globals._NoValue'>)\n",
      "    Compute the standard deviation along the specified axis.\n",
      "    \n",
      "    Returns the standard deviation, a measure of the spread of a distribution,\n",
      "    of the array elements. The standard deviation is computed for the\n",
      "    flattened array by default, otherwise over the specified axis.\n",
      "    \n",
      "    Parameters\n",
      "    ----------\n",
      "    a : array_like\n",
      "        Calculate the standard deviation of these values.\n",
      "    axis : None or int or tuple of ints, optional\n",
      "        Axis or axes along which the standard deviation is computed. The\n",
      "        default is to compute the standard deviation of the flattened array.\n",
      "    \n",
      "        .. versionadded:: 1.7.0\n",
      "    \n",
      "        If this is a tuple of ints, a standard deviation is performed over\n",
      "        multiple axes, instead of a single axis or all the axes as before.\n",
      "    dtype : dtype, optional\n",
      "        Type to use in computing the standard deviation. For arrays of\n",
      "        integer type the default is float64, for arrays of float types it is\n",
      "        the same as the array type.\n",
      "    out : ndarray, optional\n",
      "        Alternative output array in which to place the result. It must have\n",
      "        the same shape as the expected output but the type (of the calculated\n",
      "        values) will be cast if necessary.\n",
      "    ddof : int, optional\n",
      "        Means Delta Degrees of Freedom.  The divisor used in calculations\n",
      "        is ``N - ddof``, where ``N`` represents the number of elements.\n",
      "        By default `ddof` is zero.\n",
      "    keepdims : bool, optional\n",
      "        If this is set to True, the axes which are reduced are left\n",
      "        in the result as dimensions with size one. With this option,\n",
      "        the result will broadcast correctly against the input array.\n",
      "    \n",
      "        If the default value is passed, then `keepdims` will not be\n",
      "        passed through to the `std` method of sub-classes of\n",
      "        `ndarray`, however any non-default value will be.  If the\n",
      "        sub-classes `sum` method does not implement `keepdims` any\n",
      "        exceptions will be raised.\n",
      "    \n",
      "    Returns\n",
      "    -------\n",
      "    standard_deviation : ndarray, see dtype parameter above.\n",
      "        If `out` is None, return a new array containing the standard deviation,\n",
      "        otherwise return a reference to the output array.\n",
      "    \n",
      "    See Also\n",
      "    --------\n",
      "    var, mean, nanmean, nanstd, nanvar\n",
      "    numpy.doc.ufuncs : Section \"Output arguments\"\n",
      "    \n",
      "    Notes\n",
      "    -----\n",
      "    The standard deviation is the square root of the average of the squared\n",
      "    deviations from the mean, i.e., ``std = sqrt(mean(abs(x - x.mean())**2))``.\n",
      "    \n",
      "    The average squared deviation is normally calculated as\n",
      "    ``x.sum() / N``, where ``N = len(x)``.  If, however, `ddof` is specified,\n",
      "    the divisor ``N - ddof`` is used instead. In standard statistical\n",
      "    practice, ``ddof=1`` provides an unbiased estimator of the variance\n",
      "    of the infinite population. ``ddof=0`` provides a maximum likelihood\n",
      "    estimate of the variance for normally distributed variables. The\n",
      "    standard deviation computed in this function is the square root of\n",
      "    the estimated variance, so even with ``ddof=1``, it will not be an\n",
      "    unbiased estimate of the standard deviation per se.\n",
      "    \n",
      "    Note that, for complex numbers, `std` takes the absolute\n",
      "    value before squaring, so that the result is always real and nonnegative.\n",
      "    \n",
      "    For floating-point input, the *std* is computed using the same\n",
      "    precision the input has. Depending on the input data, this can cause\n",
      "    the results to be inaccurate, especially for float32 (see example below).\n",
      "    Specifying a higher-accuracy accumulator using the `dtype` keyword can\n",
      "    alleviate this issue.\n",
      "    \n",
      "    Examples\n",
      "    --------\n",
      "    >>> a = np.array([[1, 2], [3, 4]])\n",
      "    >>> np.std(a)\n",
      "    1.1180339887498949\n",
      "    >>> np.std(a, axis=0)\n",
      "    array([ 1.,  1.])\n",
      "    >>> np.std(a, axis=1)\n",
      "    array([ 0.5,  0.5])\n",
      "    \n",
      "    In single precision, std() can be inaccurate:\n",
      "    \n",
      "    >>> a = np.zeros((2, 512*512), dtype=np.float32)\n",
      "    >>> a[0, :] = 1.0\n",
      "    >>> a[1, :] = 0.1\n",
      "    >>> np.std(a)\n",
      "    0.45000005\n",
      "    \n",
      "    Computing the standard deviation in float64 is more accurate:\n",
      "    \n",
      "    >>> np.std(a, dtype=np.float64)\n",
      "    0.44999999925494177\n",
      "\n"
     ]
    }
   ],
   "source": [
    "help(np.std)"
   ]
  },
  {
   "cell_type": "code",
   "execution_count": 34,
   "metadata": {},
   "outputs": [
    {
     "data": {
      "text/plain": [
       "36.958470902197391"
      ]
     },
     "execution_count": 34,
     "metadata": {},
     "output_type": "execute_result"
    }
   ],
   "source": [
    "np.std(vettore, ddof=1)"
   ]
  },
  {
   "cell_type": "markdown",
   "metadata": {},
   "source": [
    "## Indexing\n",
    "\n",
    "L'indexing degli array numpy è molto simile alle liste, tuttavia in alcuni casi più potente. Supponiamo di voler selezionari tutti gli elementi di un vettore maggiori di 10. Con una lista lo faremmo nel seguente modo:"
   ]
  },
  {
   "cell_type": "code",
   "execution_count": 35,
   "metadata": {},
   "outputs": [
    {
     "name": "stdout",
     "output_type": "stream",
     "text": [
      "[11, 12, 13, 14]\n"
     ]
    }
   ],
   "source": [
    "lista = list(range(5, 15))\n",
    "nuova_lista = []\n",
    "for num in lista:\n",
    "    if num > 10:\n",
    "        nuova_lista.append(num)\n",
    "\n",
    "print(nuova_lista)"
   ]
  },
  {
   "cell_type": "markdown",
   "metadata": {},
   "source": [
    "In numpy tutto ciò è molto più semplice:"
   ]
  },
  {
   "cell_type": "code",
   "execution_count": 36,
   "metadata": {
    "scrolled": true
   },
   "outputs": [
    {
     "name": "stdout",
     "output_type": "stream",
     "text": [
      "[11 12 13 14]\n"
     ]
    }
   ],
   "source": [
    "vettore = np.arange(5, 15)\n",
    "print(vettore[vettore > 10])"
   ]
  },
  {
   "cell_type": "markdown",
   "metadata": {},
   "source": [
    "## Esercizio 7: media modificata\n",
    "\n",
    "Dato un vettore, calcolare il valor medio degli elementi del vettore maggiori di 0."
   ]
  },
  {
   "cell_type": "code",
   "execution_count": 37,
   "metadata": {},
   "outputs": [
    {
     "name": "stdout",
     "output_type": "stream",
     "text": [
      "[  1   4 -54 -22   3  10   6  78]\n",
      "media modificata: 17.0\n"
     ]
    }
   ],
   "source": [
    "def media_modificata(vettore):\n",
    "    mod = vettore[vettore > 0]   # selezioniamo soltanto gli elementi maggiori di 0\n",
    "    return media(mod)            # chiamiamo la funzione media sul nuovo vettore ottenuto\n",
    "\n",
    "vettore = np.array([1, 4, -54, -22, 3, 10, 6, 78])\n",
    "print(vettore)\n",
    "print(\"media modificata:\", media_modificata(vettore))"
   ]
  }
 ],
 "metadata": {
  "kernelspec": {
   "display_name": "Python 3",
   "language": "python",
   "name": "python3"
  },
  "language_info": {
   "codemirror_mode": {
    "name": "ipython",
    "version": 3
   },
   "file_extension": ".py",
   "mimetype": "text/x-python",
   "name": "python",
   "nbconvert_exporter": "python",
   "pygments_lexer": "ipython3",
   "version": "3.6.1"
  }
 },
 "nbformat": 4,
 "nbformat_minor": 2
}
