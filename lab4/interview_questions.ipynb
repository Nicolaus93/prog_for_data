{
 "cells": [
  {
   "cell_type": "markdown",
   "metadata": {},
   "source": [
    "# Extra: Interview questions"
   ]
  },
  {
   "cell_type": "markdown",
   "metadata": {},
   "source": [
    "## Amazon"
   ]
  },
  {
   "cell_type": "markdown",
   "metadata": {},
   "source": [
    "There are two strings A and B with equal length.\n",
    "You can change a segment of characters of a string to any other character you want.\n",
    "Your task is to change A to B using segment replaces.\n",
    "What's the minimum number of operations?\n",
    "\n",
    "A:zzzzzfzzzzz\n",
    "\n",
    "B:abcdefedcba\n",
    "\n",
    "6"
   ]
  },
  {
   "cell_type": "markdown",
   "metadata": {},
   "source": [
    "## Facebook 1\n",
    "\n",
    "Given a dictionary, find all pairs of words that, when concatenated together, form a palindrome.\n",
    "\n",
    "‘none', 'xenon': 'nonexenon' is a palindrome\n",
    "\n",
    "'none', 'xexenon': 'nonexexenon' is a palindrome"
   ]
  },
  {
   "cell_type": "markdown",
   "metadata": {},
   "source": [
    "## Facebook 2"
   ]
  },
  {
   "cell_type": "markdown",
   "metadata": {},
   "source": [
    "Given a 2d array of 0s and 1s, 0 means water, 1 means land, connected 1s form an island, count the number of islands on this map.\n",
    "\n",
    "01010\n",
    "\n",
    "01001\n",
    "\n",
    "01101\n",
    "\n",
    "returns 3"
   ]
  }
 ],
 "metadata": {
  "kernelspec": {
   "display_name": "Python 3",
   "language": "python",
   "name": "python3"
  },
  "language_info": {
   "codemirror_mode": {
    "name": "ipython",
    "version": 3
   },
   "file_extension": ".py",
   "mimetype": "text/x-python",
   "name": "python",
   "nbconvert_exporter": "python",
   "pygments_lexer": "ipython3",
   "version": "3.6.1"
  }
 },
 "nbformat": 4,
 "nbformat_minor": 2
}
