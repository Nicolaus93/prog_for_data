{
 "cells": [
  {
   "cell_type": "markdown",
   "metadata": {},
   "source": [
    "## Help!\n",
    "\n",
    "Una funzione che potrebbe tornarvi utile (soprattutto nel caso non abbiate una connessione internet) è \"help\".\n",
    "Ad esempio, molti di voi erano confusi riguardo il comando input():"
   ]
  },
  {
   "cell_type": "code",
   "execution_count": 1,
   "metadata": {},
   "outputs": [
    {
     "name": "stdout",
     "output_type": "stream",
     "text": [
      "Help on method raw_input in module ipykernel.kernelbase:\n",
      "\n",
      "raw_input(prompt='') method of ipykernel.ipkernel.IPythonKernel instance\n",
      "    Forward raw_input to frontends\n",
      "    \n",
      "    Raises\n",
      "    ------\n",
      "    StdinNotImplentedError if active frontend doesn't support stdin.\n",
      "\n"
     ]
    }
   ],
   "source": [
    "help(input)"
   ]
  },
  {
   "cell_type": "markdown",
   "metadata": {},
   "source": [
    "In realtà scommetto che non ci abbiate capito molto lo stesso (alcune volte la documentazione di python fa un po' schifo). However, il comando input() si usa per leggere un input da tastiera, come potete vedere qui di seguito:"
   ]
  },
  {
   "cell_type": "code",
   "execution_count": 2,
   "metadata": {},
   "outputs": [
    {
     "name": "stdout",
     "output_type": "stream",
     "text": [
      "ciao!\n"
     ]
    }
   ],
   "source": [
    "var = input()"
   ]
  },
  {
   "cell_type": "code",
   "execution_count": 3,
   "metadata": {},
   "outputs": [
    {
     "data": {
      "text/plain": [
       "'ciao!'"
      ]
     },
     "execution_count": 3,
     "metadata": {},
     "output_type": "execute_result"
    }
   ],
   "source": [
    "var"
   ]
  },
  {
   "cell_type": "markdown",
   "metadata": {},
   "source": [
    "In particolare l'input verrà letto come stringa:"
   ]
  },
  {
   "cell_type": "code",
   "execution_count": 4,
   "metadata": {},
   "outputs": [
    {
     "data": {
      "text/plain": [
       "str"
      ]
     },
     "execution_count": 4,
     "metadata": {},
     "output_type": "execute_result"
    }
   ],
   "source": [
    "type(var)"
   ]
  },
  {
   "cell_type": "markdown",
   "metadata": {},
   "source": [
    "Se quindi sappiamo che abbiamo un numero come input, possiamo convertirlo in intero (o float):"
   ]
  },
  {
   "cell_type": "code",
   "execution_count": 5,
   "metadata": {},
   "outputs": [
    {
     "name": "stdout",
     "output_type": "stream",
     "text": [
      "inserisci un numero --> 42\n",
      "<class 'int'>\n"
     ]
    }
   ],
   "source": [
    "var = input('inserisci un numero --> ')   # lettura dell'input\n",
    "var = int(var)                            # trasformazione (cast) dell'input in intero\n",
    "print(type(var))                          # verifica"
   ]
  },
  {
   "cell_type": "markdown",
   "metadata": {},
   "source": [
    "## 1 - Hello, World!\n",
    "\n",
    "Passiamo alla stampa.."
   ]
  },
  {
   "cell_type": "code",
   "execution_count": 6,
   "metadata": {},
   "outputs": [
    {
     "name": "stdout",
     "output_type": "stream",
     "text": [
      "Hello, World!\n"
     ]
    }
   ],
   "source": [
    "print(\"Hello, World!\")"
   ]
  },
  {
   "cell_type": "markdown",
   "metadata": {},
   "source": [
    "La stampa è uno dei modi più comuni per debuggare (rimuovere un \"bug\", un errore) un programma, sebbene non il migliore (per questo esistono i debugger). Stampando il valore di una variabile, possiamo controllare che sia quello che ci aspettiamo."
   ]
  },
  {
   "cell_type": "code",
   "execution_count": 7,
   "metadata": {},
   "outputs": [
    {
     "name": "stdout",
     "output_type": "stream",
     "text": [
      "n:  20  m : 195\n"
     ]
    }
   ],
   "source": [
    "n = 20\n",
    "m = 195\n",
    "print(\"n: \", n, \" m :\",  m)"
   ]
  },
  {
   "cell_type": "markdown",
   "metadata": {},
   "source": [
    "In realtà il modo più corretto di stampare in Python è usando la funzione \"format\":"
   ]
  },
  {
   "cell_type": "code",
   "execution_count": 8,
   "metadata": {},
   "outputs": [
    {
     "name": "stdout",
     "output_type": "stream",
     "text": [
      "n: 20, m: 195\n"
     ]
    }
   ],
   "source": [
    "print(\"n: {}, m: {}\".format(n, m))"
   ]
  },
  {
   "cell_type": "markdown",
   "metadata": {},
   "source": [
    "Se ne volete sapere di più, c'è una bella guida al seguente link: https://pyformat.info"
   ]
  },
  {
   "cell_type": "markdown",
   "metadata": {},
   "source": [
    "## 2 - If/Else\n",
    "\n",
    "Per controllare che delle condizioni siano verificate si usano i comandi \"if\", \"elif\" (else if) ed \"else\".\n",
    "Ricordo che perché un predicato sia vero in presenza di un \"and\", entrambe le condizioni devono essere vere.\n",
    "Al contrario, in presenza di un \"or\" basta che solo una delle condizioni sia verificata.\n",
    "Esempio:\n"
   ]
  },
  {
   "cell_type": "code",
   "execution_count": 9,
   "metadata": {},
   "outputs": [
    {
     "name": "stdout",
     "output_type": "stream",
     "text": [
      "False\n",
      "True\n"
     ]
    }
   ],
   "source": [
    "n = 24\n",
    "print(n > 20 and n < 10)  # n è contemporaneamente maggiore di 20 e minore di 10?\n",
    "print(n > 20 or n < 10)   # n è maggiore di 20 O minore di 10?"
   ]
  },
  {
   "cell_type": "markdown",
   "metadata": {},
   "source": [
    "Ritorniamo all'esercizio 2 in classe:\n",
    "\n",
    "Given an integer, perform the following conditional actions:\n",
    "- If  is odd, print Weird\n",
    "- If  is even and in the inclusive range of  to , print Not Weird\n",
    "- If  is even and in the inclusive range of  to , print Weird\n",
    "- If  is even and greater than , print Not Weird"
   ]
  },
  {
   "cell_type": "code",
   "execution_count": 10,
   "metadata": {},
   "outputs": [
    {
     "name": "stdout",
     "output_type": "stream",
     "text": [
      "24\n",
      "Not Weird\n"
     ]
    }
   ],
   "source": [
    "n = input()        # leggiamo l'input\n",
    "n = int(n)         # trasformiamolo in intero\n",
    "if n % 2 == 1:     # l'operatore % ci restituisce il resto della divisione tra n e 2 (es: 10 % 7 = 3). \n",
    "    print(\"Weird\") # In particolare, se n % 2 è 1 allora n sarà un numero dispari (o \"Weird\" in questo caso)\n",
    "elif n % 2 == 0 and 2 <= n <= 5:   # questa condizione equivale a dire n è pari E è compreso tra 2 e 5 (inclusi)\n",
    "    print(\"Not Weird\")\n",
    "elif n % 2 == 0 and 6 <= n <= 20:  # questa condizione equivale a dire n è pari E è compreso tra 6 e 20 (inclusi)\n",
    "    print(\"Weird\")\n",
    "else:\n",
    "    print(\"Not Weird\")"
   ]
  },
  {
   "cell_type": "markdown",
   "metadata": {},
   "source": [
    "## 3 - Loops\n",
    "\n",
    "Prima di vedere come funzionano i loop, introduciamo i \"range\":"
   ]
  },
  {
   "cell_type": "code",
   "execution_count": 11,
   "metadata": {},
   "outputs": [
    {
     "name": "stdout",
     "output_type": "stream",
     "text": [
      "Help on class range in module builtins:\n",
      "\n",
      "class range(object)\n",
      " |  range(stop) -> range object\n",
      " |  range(start, stop[, step]) -> range object\n",
      " |  \n",
      " |  Return an object that produces a sequence of integers from start (inclusive)\n",
      " |  to stop (exclusive) by step.  range(i, j) produces i, i+1, i+2, ..., j-1.\n",
      " |  start defaults to 0, and stop is omitted!  range(4) produces 0, 1, 2, 3.\n",
      " |  These are exactly the valid indices for a list of 4 elements.\n",
      " |  When step is given, it specifies the increment (or decrement).\n",
      " |  \n",
      " |  Methods defined here:\n",
      " |  \n",
      " |  __contains__(self, key, /)\n",
      " |      Return key in self.\n",
      " |  \n",
      " |  __eq__(self, value, /)\n",
      " |      Return self==value.\n",
      " |  \n",
      " |  __ge__(self, value, /)\n",
      " |      Return self>=value.\n",
      " |  \n",
      " |  __getattribute__(self, name, /)\n",
      " |      Return getattr(self, name).\n",
      " |  \n",
      " |  __getitem__(self, key, /)\n",
      " |      Return self[key].\n",
      " |  \n",
      " |  __gt__(self, value, /)\n",
      " |      Return self>value.\n",
      " |  \n",
      " |  __hash__(self, /)\n",
      " |      Return hash(self).\n",
      " |  \n",
      " |  __iter__(self, /)\n",
      " |      Implement iter(self).\n",
      " |  \n",
      " |  __le__(self, value, /)\n",
      " |      Return self<=value.\n",
      " |  \n",
      " |  __len__(self, /)\n",
      " |      Return len(self).\n",
      " |  \n",
      " |  __lt__(self, value, /)\n",
      " |      Return self<value.\n",
      " |  \n",
      " |  __ne__(self, value, /)\n",
      " |      Return self!=value.\n",
      " |  \n",
      " |  __new__(*args, **kwargs) from builtins.type\n",
      " |      Create and return a new object.  See help(type) for accurate signature.\n",
      " |  \n",
      " |  __reduce__(...)\n",
      " |      helper for pickle\n",
      " |  \n",
      " |  __repr__(self, /)\n",
      " |      Return repr(self).\n",
      " |  \n",
      " |  __reversed__(...)\n",
      " |      Return a reverse iterator.\n",
      " |  \n",
      " |  count(...)\n",
      " |      rangeobject.count(value) -> integer -- return number of occurrences of value\n",
      " |  \n",
      " |  index(...)\n",
      " |      rangeobject.index(value, [start, [stop]]) -> integer -- return index of value.\n",
      " |      Raise ValueError if the value is not present.\n",
      " |  \n",
      " |  ----------------------------------------------------------------------\n",
      " |  Data descriptors defined here:\n",
      " |  \n",
      " |  start\n",
      " |  \n",
      " |  step\n",
      " |  \n",
      " |  stop\n",
      "\n"
     ]
    }
   ],
   "source": [
    "help(range)"
   ]
  },
  {
   "cell_type": "markdown",
   "metadata": {},
   "source": [
    "Questa volta l'help sembra più chiaro: \"Return an object that produces a sequence of integers from start (inclusive) to stop (exclusive) by step. range(i, j) produces i, i+1, i+2, ..., j-1. start defaults to 0, and stop is omitted!  range(4) produces 0, 1, 2, 3.\"\n",
    "\n",
    "Utilizzato insieme ad un for loop:"
   ]
  },
  {
   "cell_type": "code",
   "execution_count": 12,
   "metadata": {},
   "outputs": [
    {
     "name": "stdout",
     "output_type": "stream",
     "text": [
      "0\n",
      "1\n",
      "2\n",
      "3\n",
      "4\n",
      "5\n",
      "6\n",
      "7\n",
      "8\n",
      "9\n"
     ]
    }
   ],
   "source": [
    "for i in range(10): # in questo caso range(10) = [0, 1, .., 9]\n",
    "    print(i)"
   ]
  },
  {
   "cell_type": "code",
   "execution_count": 13,
   "metadata": {},
   "outputs": [
    {
     "name": "stdout",
     "output_type": "stream",
     "text": [
      "10\n",
      "12\n",
      "14\n",
      "16\n",
      "18\n"
     ]
    }
   ],
   "source": [
    "for i in range(10, 20, 2): # il primo numero è 10 (incluso), l'ultimo è 20 (escluso) e lo step è 2\n",
    "    print(i)"
   ]
  },
  {
   "cell_type": "markdown",
   "metadata": {},
   "source": [
    "Ritorniamo all'esercizio 3, riguardo le potenze:\n",
    "\n",
    "Read an integer N. \n",
    "For all non-negative integers $i < N$, print $i^2$."
   ]
  },
  {
   "cell_type": "code",
   "execution_count": 14,
   "metadata": {},
   "outputs": [
    {
     "name": "stdout",
     "output_type": "stream",
     "text": [
      "11\n",
      "0\n",
      "1\n",
      "4\n",
      "9\n",
      "16\n",
      "25\n",
      "36\n",
      "49\n",
      "64\n",
      "81\n",
      "100\n"
     ]
    }
   ],
   "source": [
    "n = input()          # leggiamo l'input\n",
    "n = int(n)           # trasformiamolo in intero\n",
    "for i in range(n):   # ciclo che va da 0 a n - 1\n",
    "    print(i**2)      # l'operatore potenza si può scrivere usando '**'"
   ]
  },
  {
   "cell_type": "markdown",
   "metadata": {},
   "source": [
    "Oltre ai cicli \"for\", possiamo avere anche dei cicli \"while\". Al contrario del \"for\", che hanno una lunghezza specifica, i cicli \"while\" vanno avanti fin quando una condizione non è verificata:"
   ]
  },
  {
   "cell_type": "code",
   "execution_count": 15,
   "metadata": {},
   "outputs": [
    {
     "name": "stdout",
     "output_type": "stream",
     "text": [
      "0\n"
     ]
    }
   ],
   "source": [
    "import random                      # importiamo il modulo random\n",
    "i = 0                              # inizializziamo un contatore a 0\n",
    "while random.uniform(0, 1) < 0.7:  # estraiamo un campione tra una distribuzione uniforme tra 0 e 1\n",
    "    i += 1                         # se il campione è < 0.7, incrementiamo il contatore e il ciclo va avanti\n",
    "print(i)                           # quando il ciclo è finito (abbiamo un campione > 0.7), stampiamo il contatore"
   ]
  },
  {
   "cell_type": "markdown",
   "metadata": {},
   "source": [
    "Se fate girare diverse volte il codice qui sopra, probabilmente avrete risultati diversi tra loro, a dimostrazione che un ciclo while può avere una lunghezza non predefinita.\n",
    "\n",
    "Ad ogni modo, qualsiasi ciclo \"for\" può essere pensato come un ciclo \"while\":"
   ]
  },
  {
   "cell_type": "code",
   "execution_count": 16,
   "metadata": {},
   "outputs": [
    {
     "name": "stdout",
     "output_type": "stream",
     "text": [
      "ciclo for:\n",
      "0\n",
      "1\n",
      "2\n",
      "3\n",
      "4\n",
      "5\n",
      "6\n",
      "7\n",
      "8\n",
      "9\n",
      "ciclo while:\n",
      "0\n",
      "1\n",
      "2\n",
      "3\n",
      "4\n",
      "5\n",
      "6\n",
      "7\n",
      "8\n",
      "9\n"
     ]
    }
   ],
   "source": [
    "print(\"ciclo for:\")\n",
    "for i in range(10):\n",
    "    print(i)\n",
    "\n",
    "print(\"ciclo while:\")\n",
    "j = 0\n",
    "while j < 10:\n",
    "    print(j)\n",
    "    j += 1"
   ]
  },
  {
   "cell_type": "markdown",
   "metadata": {},
   "source": [
    "## 4 - Write a function\n",
    "\n",
    "Perché scrivere una funzione? Una funzione è un blocco di codice che viene usato per uno specifico compito. I vantaggi nell'usare una funzione possono essere elencati:\n",
    " - Riducono la \"duplicazione\" di codice identico\n",
    " - Decompongono problemi complessi in altri più semplici\n",
    " - Rendono il codice più chiaro\n",
    " \n",
    "Ricordate (o sappiate :P) che uno dei principi della programmazione è \"DRY\", \"Don't Repeat Yourself\" (https://en.wikipedia.org/wiki/Don%27t_repeat_yourself)\n",
    "\n",
    "Scrivere una funzione in Python è piuttosto immediato. Bisogna usare il comando \"def\", dare un nome alla funzione e poi tra parentesi specificare l'input della funzione. Ogni funzione ritornerà un valore in output con il comando \"return\". Se non specifichiamo un \"return\" allora python ci ritornerà \"None\". Inoltre, è possibile anche non passare argomenti in input. Ad esempio:\n"
   ]
  },
  {
   "cell_type": "code",
   "execution_count": 17,
   "metadata": {},
   "outputs": [
    {
     "name": "stdout",
     "output_type": "stream",
     "text": [
      "None\n"
     ]
    }
   ],
   "source": [
    "def do_nothing():\n",
    "    \"\"\"Funzione inutile\"\"\"\n",
    "    pass\n",
    "\n",
    "a = do_nothing()\n",
    "print(a)"
   ]
  },
  {
   "cell_type": "code",
   "execution_count": 18,
   "metadata": {},
   "outputs": [
    {
     "name": "stdout",
     "output_type": "stream",
     "text": [
      "9\n"
     ]
    }
   ],
   "source": [
    "def somma(a, b):\n",
    "    \"Somma di 2 numeri a e b\"\n",
    "    return a + b\n",
    "\n",
    "print(somma(4, 5))"
   ]
  },
  {
   "cell_type": "markdown",
   "metadata": {},
   "source": [
    "\n",
    "Vediamo come scrivere una funzione per verificare se un anno è bisestile o meno (esercizio 4):"
   ]
  },
  {
   "cell_type": "code",
   "execution_count": 19,
   "metadata": {},
   "outputs": [
    {
     "name": "stdout",
     "output_type": "stream",
     "text": [
      "2000\n",
      "L'anno 2000 è bisestile\n"
     ]
    }
   ],
   "source": [
    "def is_leap(n):\n",
    "    if n % 400 == 0:\n",
    "        # se l'anno è divisible per 400 è certamente bisestile\n",
    "        # (anche se è divisibile per 100, la condizione sul 400 è quella più forte)\n",
    "        return True\n",
    "    elif n % 100 == 0:\n",
    "        # se non è divisible per 400, potrebbe comunque essere divisible per 100 e 4\n",
    "        # tuttavia la condizione sulla divisibilità per 100 è (la seconda) più forte\n",
    "        return False\n",
    "    elif n % 4 == 0:\n",
    "        # se è divisibile per 4 ma non è divisibile per 400 o 100 è bisestile\n",
    "        return True\n",
    "    else:\n",
    "        # in tutti gli altri casi non abbiamo un anno bisestile\n",
    "        return False\n",
    "\n",
    "n = input()\n",
    "n = int(n)\n",
    "if is_leap(n):\n",
    "    print(\"L'anno {} è bisestile\".format(n))\n",
    "else:\n",
    "    print(\"L'anno {} non è bisestile\".format(n))"
   ]
  },
  {
   "cell_type": "markdown",
   "metadata": {},
   "source": [
    "Possiamo anche scrivere la funzione in maniera più compatta:"
   ]
  },
  {
   "cell_type": "code",
   "execution_count": 20,
   "metadata": {},
   "outputs": [
    {
     "name": "stdout",
     "output_type": "stream",
     "text": [
      "1999\n",
      "L'anno 1999 non è bisestile\n"
     ]
    }
   ],
   "source": [
    "def is_leap(year):\n",
    "    # se (l'anno è divisibile per 400) O (l'anno NON è divisible per 100 E l'anno è divisible per 4) --> is_leap = True\n",
    "    return (year % 400 == 0) or (( year % 100 != 0) and (year % 4 == 0))\n",
    "\n",
    "n = input()\n",
    "n = int(n)\n",
    "if is_leap(n):\n",
    "    print(\"L'anno {} è bisestile\".format(n))\n",
    "else:\n",
    "    print(\"L'anno {} non è bisestile\".format(n))"
   ]
  },
  {
   "cell_type": "markdown",
   "metadata": {},
   "source": [
    "## 5 - Lists"
   ]
  },
  {
   "cell_type": "markdown",
   "metadata": {},
   "source": [
    "Lo scopo dell'esercizio 5 era quello di illustrare i vari comandi che si possono applicare alle liste, per questo lascerei stare la lettura dell'input e illustrerei degli esempi di seguito."
   ]
  },
  {
   "cell_type": "code",
   "execution_count": 21,
   "metadata": {},
   "outputs": [],
   "source": [
    "lista = []      # questo comando crea una lista vuota\n",
    "lista = list()  # questo comando crea una lista vuota"
   ]
  },
  {
   "cell_type": "markdown",
   "metadata": {},
   "source": [
    "Uno dei comandi che usati più spesso è \"append\". Con questo comando si possono aggiungere degli elementi in coda alla lista:"
   ]
  },
  {
   "cell_type": "code",
   "execution_count": 22,
   "metadata": {},
   "outputs": [
    {
     "name": "stdout",
     "output_type": "stream",
     "text": [
      "[0, 1, 2, 3, 4, 5, 6, 7, 8, 9]\n"
     ]
    }
   ],
   "source": [
    "lista = []\n",
    "for i in range(10):  # ciclo con i da 0 a 9\n",
    "    lista.append(i)  # aggiungiamo i alla lista \n",
    "print(lista)"
   ]
  },
  {
   "cell_type": "markdown",
   "metadata": {},
   "source": [
    "Diversamente, se vogliamo inserire un elemento in una data posizione, possiamo usare il comando \"insert\":"
   ]
  },
  {
   "cell_type": "code",
   "execution_count": 23,
   "metadata": {},
   "outputs": [
    {
     "name": "stdout",
     "output_type": "stream",
     "text": [
      "['abc', 0, 1, 2, 3, 4, 5, 6, 7, 8, 9]\n"
     ]
    }
   ],
   "source": [
    "lista.insert(0, 'abc')   # inserisce la stringa 'abc' al posto con indice 0\n",
    "print(lista)"
   ]
  },
  {
   "cell_type": "markdown",
   "metadata": {},
   "source": [
    "Possiamo anche rimuovere elementi da una lista, usando il comando \"remove\" e specificando quale elemento vogliamo rimuovere. Nel caso in cui l'elemento specificato sia presente più di una volta all'interno della lista, soltanto la prima occorrenza verrà rimossa:"
   ]
  },
  {
   "cell_type": "code",
   "execution_count": 24,
   "metadata": {},
   "outputs": [
    {
     "name": "stdout",
     "output_type": "stream",
     "text": [
      "['a', 'b', 'b']\n",
      "['a', 'b']\n"
     ]
    }
   ],
   "source": [
    "lista = ['a', 'a', 'b', 'b']\n",
    "lista.remove('a')\n",
    "print(lista)\n",
    "lista.remove('b')\n",
    "print(lista)"
   ]
  },
  {
   "cell_type": "markdown",
   "metadata": {},
   "source": [
    "Se vogliamo ordinare gli elementi di una lista, possiamo usare il comando \"sorted\":"
   ]
  },
  {
   "cell_type": "code",
   "execution_count": 25,
   "metadata": {},
   "outputs": [
    {
     "name": "stdout",
     "output_type": "stream",
     "text": [
      "[0, 1, 2, 3, 4, 5, 6, 7, 8, 9]\n"
     ]
    }
   ],
   "source": [
    "lista = [9, 5, 3, 2, 8, 4, 7, 6, 1, 0]\n",
    "print(sorted(lista))"
   ]
  },
  {
   "cell_type": "markdown",
   "metadata": {},
   "source": [
    "Oppure cercare il massimo e il minimo, usando \"max\" e \"min\":"
   ]
  },
  {
   "cell_type": "code",
   "execution_count": 26,
   "metadata": {},
   "outputs": [
    {
     "name": "stdout",
     "output_type": "stream",
     "text": [
      "9\n",
      "0\n"
     ]
    }
   ],
   "source": [
    "print(max(lista))\n",
    "print(min(lista))"
   ]
  },
  {
   "cell_type": "markdown",
   "metadata": {},
   "source": [
    "### Esercizio: numeri pari fino a n\n",
    "\n",
    "In questo esercizio scriviamo una funzione che riceva in input un numero n. La funzione dovrà creare e ritornare una lista che contiene tutti i numeri pari fino ad n."
   ]
  },
  {
   "cell_type": "code",
   "execution_count": 27,
   "metadata": {},
   "outputs": [
    {
     "name": "stdout",
     "output_type": "stream",
     "text": [
      "22\n",
      "[0, 2, 4, 6, 8, 10, 12, 14, 16, 18, 20]\n"
     ]
    }
   ],
   "source": [
    "def pari_fino_a(n):\n",
    "    lista = list()                # definiamo una lista vuota\n",
    "    for i in range(n):            # iteriamo da 0 a n (n escluso)\n",
    "        if i % 2 == 0:            # se il numero corrente (i) è divisibile per 2\n",
    "            lista.append(i)       # lo aggiungiamo alla lista\n",
    "    return lista                  # ritorniamo la lista\n",
    "\n",
    "n = input()\n",
    "n = int(n)                        # ricorda che un input letto da tastiera è una stringa!\n",
    "num_pari = pari_fino_a(n)\n",
    "print(num_pari)"
   ]
  }
 ],
 "metadata": {
  "kernelspec": {
   "display_name": "Python 3",
   "language": "python",
   "name": "python3"
  },
  "language_info": {
   "codemirror_mode": {
    "name": "ipython",
    "version": 3
   },
   "file_extension": ".py",
   "mimetype": "text/x-python",
   "name": "python",
   "nbconvert_exporter": "python",
   "pygments_lexer": "ipython3",
   "version": "3.6.1"
  }
 },
 "nbformat": 4,
 "nbformat_minor": 2
}
